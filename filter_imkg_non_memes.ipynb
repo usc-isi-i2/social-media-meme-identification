{
 "cells": [
  {
   "cell_type": "code",
   "execution_count": 1,
   "id": "229b5960",
   "metadata": {},
   "outputs": [],
   "source": [
    "import json\n",
    "import random\n",
    "import requests\n",
    "import pandas as pd\n",
    "import matplotlib.pyplot as plt\n",
    "from PIL import Image\n",
    "from tqdm import tqdm"
   ]
  },
  {
   "cell_type": "code",
   "execution_count": 4,
   "id": "86d82cad",
   "metadata": {},
   "outputs": [],
   "source": [
    "filter_list = [\n",
    "    \"https://i.imgflip.com/6e456k.jpg\", \"https://i.imgflip.com/6eb3ub.jpg\", \"https://i.imgflip.com/6e80xv.jpg\",\n",
    "    \"https://i.imgflip.com/59v56p.jpg\", \"https://i.imgflip.com/61285t.jpg\", \"https://i.imgflip.com/691gmh.jpg\",\n",
    "    \"https://i.imgflip.com/10kwnf.jpg\", \"https://i.imgflip.com/16urhv.jpg\", \"https://i.imgflip.com/17f70q.jpg\"]"
   ]
  },
  {
   "cell_type": "markdown",
   "id": "a8a18d7d",
   "metadata": {},
   "source": [
    "## Reddit"
   ]
  },
  {
   "cell_type": "markdown",
   "id": "be4c1924",
   "metadata": {},
   "source": [
    "### 50"
   ]
  },
  {
   "cell_type": "code",
   "execution_count": 10,
   "id": "c025abf1",
   "metadata": {},
   "outputs": [
    {
     "data": {
      "text/html": [
       "<div>\n",
       "<style scoped>\n",
       "    .dataframe tbody tr th:only-of-type {\n",
       "        vertical-align: middle;\n",
       "    }\n",
       "\n",
       "    .dataframe tbody tr th {\n",
       "        vertical-align: top;\n",
       "    }\n",
       "\n",
       "    .dataframe thead th {\n",
       "        text-align: right;\n",
       "    }\n",
       "</style>\n",
       "<table border=\"1\" class=\"dataframe\">\n",
       "  <thead>\n",
       "    <tr style=\"text-align: right;\">\n",
       "      <th></th>\n",
       "      <th>reddit image</th>\n",
       "      <th>imkg image</th>\n",
       "      <th>score</th>\n",
       "    </tr>\n",
       "  </thead>\n",
       "  <tbody>\n",
       "    <tr>\n",
       "      <th>0</th>\n",
       "      <td>./data/wholesomememes/0v7kfoivik9b1.jpg</td>\n",
       "      <td>https://i.imgflip.com/6e80xv.jpg</td>\n",
       "      <td>0.594870</td>\n",
       "    </tr>\n",
       "    <tr>\n",
       "      <th>1</th>\n",
       "      <td>./data/wholesomememes/cfifgh4a8k9b1.jpg</td>\n",
       "      <td>https://i.imgflip.com/4gy1a3.jpg</td>\n",
       "      <td>0.672966</td>\n",
       "    </tr>\n",
       "    <tr>\n",
       "      <th>2</th>\n",
       "      <td>./data/wholesomememes/qrsvnczqsi9b1.jpg</td>\n",
       "      <td>https://i.imgflip.com/6e456k.jpg</td>\n",
       "      <td>0.577164</td>\n",
       "    </tr>\n",
       "  </tbody>\n",
       "</table>\n",
       "</div>"
      ],
      "text/plain": [
       "                              reddit image                        imkg image   \n",
       "0  ./data/wholesomememes/0v7kfoivik9b1.jpg  https://i.imgflip.com/6e80xv.jpg  \\\n",
       "1  ./data/wholesomememes/cfifgh4a8k9b1.jpg  https://i.imgflip.com/4gy1a3.jpg   \n",
       "2  ./data/wholesomememes/qrsvnczqsi9b1.jpg  https://i.imgflip.com/6e456k.jpg   \n",
       "\n",
       "      score  \n",
       "0  0.594870  \n",
       "1  0.672966  \n",
       "2  0.577164  "
      ]
     },
     "execution_count": 10,
     "metadata": {},
     "output_type": "execute_result"
    }
   ],
   "source": [
    "df50 = pd.read_csv('./out/filtered_df_50.csv', index_col=0)\n",
    "df50.head(3)"
   ]
  },
  {
   "cell_type": "code",
   "execution_count": 11,
   "id": "966988b2",
   "metadata": {},
   "outputs": [
    {
     "data": {
      "text/plain": [
       "(1668, 3)"
      ]
     },
     "execution_count": 11,
     "metadata": {},
     "output_type": "execute_result"
    }
   ],
   "source": [
    "df50 = df50[~df50['imkg image'].isin(filter_list)]\n",
    "df50.to_csv('./out/new_filtered_df_50.csv')\n",
    "df50.shape"
   ]
  },
  {
   "cell_type": "markdown",
   "id": "6563ac29",
   "metadata": {},
   "source": [
    "### 70"
   ]
  },
  {
   "cell_type": "code",
   "execution_count": 12,
   "id": "d9e1c547",
   "metadata": {},
   "outputs": [
    {
     "data": {
      "text/html": [
       "<div>\n",
       "<style scoped>\n",
       "    .dataframe tbody tr th:only-of-type {\n",
       "        vertical-align: middle;\n",
       "    }\n",
       "\n",
       "    .dataframe tbody tr th {\n",
       "        vertical-align: top;\n",
       "    }\n",
       "\n",
       "    .dataframe thead th {\n",
       "        text-align: right;\n",
       "    }\n",
       "</style>\n",
       "<table border=\"1\" class=\"dataframe\">\n",
       "  <thead>\n",
       "    <tr style=\"text-align: right;\">\n",
       "      <th></th>\n",
       "      <th>reddit image</th>\n",
       "      <th>imkg image</th>\n",
       "      <th>score</th>\n",
       "    </tr>\n",
       "  </thead>\n",
       "  <tbody>\n",
       "    <tr>\n",
       "      <th>0</th>\n",
       "      <td>./data/wholesomememes/jxvnb99sig9b1.jpg</td>\n",
       "      <td>https://i.imgflip.com/61285t.jpg</td>\n",
       "      <td>0.715413</td>\n",
       "    </tr>\n",
       "    <tr>\n",
       "      <th>1</th>\n",
       "      <td>./data/wholesomememes/1pnt8qii0c9b1.png</td>\n",
       "      <td>https://i.imgflip.com/3mcrnj.jpg</td>\n",
       "      <td>0.737536</td>\n",
       "    </tr>\n",
       "    <tr>\n",
       "      <th>2</th>\n",
       "      <td>./data/wholesomememes/9lec0ze5m39b1.jpg</td>\n",
       "      <td>https://i.imgflip.com/254vtb.jpg</td>\n",
       "      <td>0.726682</td>\n",
       "    </tr>\n",
       "  </tbody>\n",
       "</table>\n",
       "</div>"
      ],
      "text/plain": [
       "                              reddit image                        imkg image   \n",
       "0  ./data/wholesomememes/jxvnb99sig9b1.jpg  https://i.imgflip.com/61285t.jpg  \\\n",
       "1  ./data/wholesomememes/1pnt8qii0c9b1.png  https://i.imgflip.com/3mcrnj.jpg   \n",
       "2  ./data/wholesomememes/9lec0ze5m39b1.jpg  https://i.imgflip.com/254vtb.jpg   \n",
       "\n",
       "      score  \n",
       "0  0.715413  \n",
       "1  0.737536  \n",
       "2  0.726682  "
      ]
     },
     "execution_count": 12,
     "metadata": {},
     "output_type": "execute_result"
    }
   ],
   "source": [
    "df70 = pd.read_csv('./out/filtered_df_70.csv', index_col=0)\n",
    "df70.head(3)"
   ]
  },
  {
   "cell_type": "code",
   "execution_count": 13,
   "id": "a3f1c28e",
   "metadata": {},
   "outputs": [
    {
     "data": {
      "text/plain": [
       "(630, 3)"
      ]
     },
     "execution_count": 13,
     "metadata": {},
     "output_type": "execute_result"
    }
   ],
   "source": [
    "df70 = df70[~df70['imkg image'].isin(filter_list)]\n",
    "df70.to_csv('./out/new_filtered_df_70.csv')\n",
    "df70.shape"
   ]
  },
  {
   "cell_type": "markdown",
   "id": "839b3f33",
   "metadata": {},
   "source": [
    "### 90"
   ]
  },
  {
   "cell_type": "code",
   "execution_count": 18,
   "id": "3a32cfa2",
   "metadata": {},
   "outputs": [
    {
     "data": {
      "text/html": [
       "<div>\n",
       "<style scoped>\n",
       "    .dataframe tbody tr th:only-of-type {\n",
       "        vertical-align: middle;\n",
       "    }\n",
       "\n",
       "    .dataframe tbody tr th {\n",
       "        vertical-align: top;\n",
       "    }\n",
       "\n",
       "    .dataframe thead th {\n",
       "        text-align: right;\n",
       "    }\n",
       "</style>\n",
       "<table border=\"1\" class=\"dataframe\">\n",
       "  <thead>\n",
       "    <tr style=\"text-align: right;\">\n",
       "      <th></th>\n",
       "      <th>reddit image</th>\n",
       "      <th>imkg image</th>\n",
       "      <th>score</th>\n",
       "    </tr>\n",
       "  </thead>\n",
       "  <tbody>\n",
       "    <tr>\n",
       "      <th>0</th>\n",
       "      <td>./data/wholesomememes/n0ja0k5zqe6b1.jpg</td>\n",
       "      <td>https://i.imgflip.com/5wz64s.jpg</td>\n",
       "      <td>0.936303</td>\n",
       "    </tr>\n",
       "    <tr>\n",
       "      <th>1</th>\n",
       "      <td>./data/dank_meme/NBYqtJD.jpg</td>\n",
       "      <td>https://i.imgflip.com/100alx.jpg</td>\n",
       "      <td>0.919824</td>\n",
       "    </tr>\n",
       "    <tr>\n",
       "      <th>2</th>\n",
       "      <td>./data/dank_meme/ciqwk54cf3ya1.jpg</td>\n",
       "      <td>https://i.imgflip.com/33puwn.jpg</td>\n",
       "      <td>0.938348</td>\n",
       "    </tr>\n",
       "  </tbody>\n",
       "</table>\n",
       "</div>"
      ],
      "text/plain": [
       "                              reddit image                        imkg image   \n",
       "0  ./data/wholesomememes/n0ja0k5zqe6b1.jpg  https://i.imgflip.com/5wz64s.jpg  \\\n",
       "1             ./data/dank_meme/NBYqtJD.jpg  https://i.imgflip.com/100alx.jpg   \n",
       "2       ./data/dank_meme/ciqwk54cf3ya1.jpg  https://i.imgflip.com/33puwn.jpg   \n",
       "\n",
       "      score  \n",
       "0  0.936303  \n",
       "1  0.919824  \n",
       "2  0.938348  "
      ]
     },
     "execution_count": 18,
     "metadata": {},
     "output_type": "execute_result"
    }
   ],
   "source": [
    "df90 = pd.read_csv('./out/filtered_df_90.csv', index_col=0)\n",
    "df90.head(3)"
   ]
  },
  {
   "cell_type": "code",
   "execution_count": 19,
   "id": "3e994b09",
   "metadata": {},
   "outputs": [
    {
     "data": {
      "text/plain": [
       "(80, 3)"
      ]
     },
     "execution_count": 19,
     "metadata": {},
     "output_type": "execute_result"
    }
   ],
   "source": [
    "df90 = df90[~df90['imkg image'].isin(filter_list)]\n",
    "df90.to_csv('./out/new_filtered_df_90.csv')\n",
    "df90.shape"
   ]
  },
  {
   "cell_type": "markdown",
   "id": "e7bcc9ca",
   "metadata": {},
   "source": [
    "### Entire reddit"
   ]
  },
  {
   "cell_type": "code",
   "execution_count": 22,
   "id": "51a6f991",
   "metadata": {},
   "outputs": [
    {
     "data": {
      "text/html": [
       "<div>\n",
       "<style scoped>\n",
       "    .dataframe tbody tr th:only-of-type {\n",
       "        vertical-align: middle;\n",
       "    }\n",
       "\n",
       "    .dataframe tbody tr th {\n",
       "        vertical-align: top;\n",
       "    }\n",
       "\n",
       "    .dataframe thead th {\n",
       "        text-align: right;\n",
       "    }\n",
       "</style>\n",
       "<table border=\"1\" class=\"dataframe\">\n",
       "  <thead>\n",
       "    <tr style=\"text-align: right;\">\n",
       "      <th></th>\n",
       "      <th>reddit image</th>\n",
       "      <th>imkg image</th>\n",
       "      <th>score</th>\n",
       "    </tr>\n",
       "  </thead>\n",
       "  <tbody>\n",
       "    <tr>\n",
       "      <th>0</th>\n",
       "      <td>./data/wholesomememes/aydzuv8alm9b1.jpg</td>\n",
       "      <td>https://i.imgflip.com/10bhow.jpg</td>\n",
       "      <td>0.498508</td>\n",
       "    </tr>\n",
       "    <tr>\n",
       "      <th>1</th>\n",
       "      <td>./data/wholesomememes/5d1kz3fwfm9b1.png</td>\n",
       "      <td>https://i.imgflip.com/2e631l.jpg</td>\n",
       "      <td>0.336322</td>\n",
       "    </tr>\n",
       "    <tr>\n",
       "      <th>2</th>\n",
       "      <td>./data/wholesomememes/g7juusas7m9b1.jpg</td>\n",
       "      <td>https://i.imgflip.com/1upug9.jpg</td>\n",
       "      <td>0.346995</td>\n",
       "    </tr>\n",
       "  </tbody>\n",
       "</table>\n",
       "</div>"
      ],
      "text/plain": [
       "                              reddit image                        imkg image   \n",
       "0  ./data/wholesomememes/aydzuv8alm9b1.jpg  https://i.imgflip.com/10bhow.jpg  \\\n",
       "1  ./data/wholesomememes/5d1kz3fwfm9b1.png  https://i.imgflip.com/2e631l.jpg   \n",
       "2  ./data/wholesomememes/g7juusas7m9b1.jpg  https://i.imgflip.com/1upug9.jpg   \n",
       "\n",
       "      score  \n",
       "0  0.498508  \n",
       "1  0.336322  \n",
       "2  0.346995  "
      ]
     },
     "execution_count": 22,
     "metadata": {},
     "output_type": "execute_result"
    }
   ],
   "source": [
    "df = pd.read_csv('./out/reddit_inference.csv', index_col=0)\n",
    "df.head(3)"
   ]
  },
  {
   "cell_type": "code",
   "execution_count": 23,
   "id": "963e3199",
   "metadata": {},
   "outputs": [
    {
     "data": {
      "text/plain": [
       "(10413, 3)"
      ]
     },
     "execution_count": 23,
     "metadata": {},
     "output_type": "execute_result"
    }
   ],
   "source": [
    "df = df[~df['imkg image'].isin(filter_list)]\n",
    "df.to_csv('./out/new_reddit_inference.csv')\n",
    "df.shape"
   ]
  },
  {
   "cell_type": "markdown",
   "id": "c5c345f6",
   "metadata": {},
   "source": [
    "## Discord"
   ]
  },
  {
   "cell_type": "markdown",
   "id": "c630f5d8",
   "metadata": {},
   "source": [
    "### 50"
   ]
  },
  {
   "cell_type": "code",
   "execution_count": 14,
   "id": "93fca44a",
   "metadata": {},
   "outputs": [
    {
     "data": {
      "text/html": [
       "<div>\n",
       "<style scoped>\n",
       "    .dataframe tbody tr th:only-of-type {\n",
       "        vertical-align: middle;\n",
       "    }\n",
       "\n",
       "    .dataframe tbody tr th {\n",
       "        vertical-align: top;\n",
       "    }\n",
       "\n",
       "    .dataframe thead th {\n",
       "        text-align: right;\n",
       "    }\n",
       "</style>\n",
       "<table border=\"1\" class=\"dataframe\">\n",
       "  <thead>\n",
       "    <tr style=\"text-align: right;\">\n",
       "      <th></th>\n",
       "      <th>discord image</th>\n",
       "      <th>imkg image</th>\n",
       "      <th>score</th>\n",
       "      <th>timestamp</th>\n",
       "      <th>channel</th>\n",
       "    </tr>\n",
       "  </thead>\n",
       "  <tbody>\n",
       "    <tr>\n",
       "      <th>0</th>\n",
       "      <td>https://cdn.discordapp.com/attachments/1043809...</td>\n",
       "      <td>https://i.imgflip.com/287qcu.jpg</td>\n",
       "      <td>0.735655</td>\n",
       "      <td>2023-05-24T23:10:21.857+00:00</td>\n",
       "      <td>memeplex</td>\n",
       "    </tr>\n",
       "    <tr>\n",
       "      <th>1</th>\n",
       "      <td>https://cdn.discordapp.com/attachments/1043809...</td>\n",
       "      <td>https://i.imgflip.com/6e456k.jpg</td>\n",
       "      <td>0.694147</td>\n",
       "      <td>2023-05-24T20:08:55.995+00:00</td>\n",
       "      <td>memeplex</td>\n",
       "    </tr>\n",
       "    <tr>\n",
       "      <th>2</th>\n",
       "      <td>https://cdn.discordapp.com/attachments/1043809...</td>\n",
       "      <td>https://i.imgflip.com/6e80xv.jpg</td>\n",
       "      <td>0.575809</td>\n",
       "      <td>2023-05-24T03:42:25.991+00:00</td>\n",
       "      <td>memeplex</td>\n",
       "    </tr>\n",
       "  </tbody>\n",
       "</table>\n",
       "</div>"
      ],
      "text/plain": [
       "                                       discord image   \n",
       "0  https://cdn.discordapp.com/attachments/1043809...  \\\n",
       "1  https://cdn.discordapp.com/attachments/1043809...   \n",
       "2  https://cdn.discordapp.com/attachments/1043809...   \n",
       "\n",
       "                         imkg image     score                      timestamp   \n",
       "0  https://i.imgflip.com/287qcu.jpg  0.735655  2023-05-24T23:10:21.857+00:00  \\\n",
       "1  https://i.imgflip.com/6e456k.jpg  0.694147  2023-05-24T20:08:55.995+00:00   \n",
       "2  https://i.imgflip.com/6e80xv.jpg  0.575809  2023-05-24T03:42:25.991+00:00   \n",
       "\n",
       "    channel  \n",
       "0  memeplex  \n",
       "1  memeplex  \n",
       "2  memeplex  "
      ]
     },
     "execution_count": 14,
     "metadata": {},
     "output_type": "execute_result"
    }
   ],
   "source": [
    "df50 = pd.read_csv('./out/discord_filtered_df_50.csv', index_col=0)\n",
    "df50.head(3)"
   ]
  },
  {
   "cell_type": "code",
   "execution_count": 15,
   "id": "565eb96b",
   "metadata": {},
   "outputs": [
    {
     "data": {
      "text/plain": [
       "(1443, 5)"
      ]
     },
     "execution_count": 15,
     "metadata": {},
     "output_type": "execute_result"
    }
   ],
   "source": [
    "df50 = df50[~df50['imkg image'].isin(filter_list)]\n",
    "df50.to_csv('./out/new_discord_filtered_df_50.csv')\n",
    "df50.shape"
   ]
  },
  {
   "cell_type": "markdown",
   "id": "9ff8a73f",
   "metadata": {},
   "source": [
    "### 70"
   ]
  },
  {
   "cell_type": "code",
   "execution_count": 16,
   "id": "90e6496f",
   "metadata": {},
   "outputs": [
    {
     "data": {
      "text/html": [
       "<div>\n",
       "<style scoped>\n",
       "    .dataframe tbody tr th:only-of-type {\n",
       "        vertical-align: middle;\n",
       "    }\n",
       "\n",
       "    .dataframe tbody tr th {\n",
       "        vertical-align: top;\n",
       "    }\n",
       "\n",
       "    .dataframe thead th {\n",
       "        text-align: right;\n",
       "    }\n",
       "</style>\n",
       "<table border=\"1\" class=\"dataframe\">\n",
       "  <thead>\n",
       "    <tr style=\"text-align: right;\">\n",
       "      <th></th>\n",
       "      <th>discord image</th>\n",
       "      <th>imkg image</th>\n",
       "      <th>score</th>\n",
       "      <th>timestamp</th>\n",
       "      <th>channel</th>\n",
       "    </tr>\n",
       "  </thead>\n",
       "  <tbody>\n",
       "    <tr>\n",
       "      <th>0</th>\n",
       "      <td>https://cdn.discordapp.com/attachments/1043809...</td>\n",
       "      <td>https://i.imgflip.com/287qcu.jpg</td>\n",
       "      <td>0.735655</td>\n",
       "      <td>2023-05-24T23:10:21.857+00:00</td>\n",
       "      <td>memeplex</td>\n",
       "    </tr>\n",
       "    <tr>\n",
       "      <th>1</th>\n",
       "      <td>https://cdn.discordapp.com/attachments/1043809...</td>\n",
       "      <td>https://i.imgflip.com/2sr84j.jpg</td>\n",
       "      <td>0.724213</td>\n",
       "      <td>2023-05-22T21:27:55.494+00:00</td>\n",
       "      <td>memeplex</td>\n",
       "    </tr>\n",
       "    <tr>\n",
       "      <th>2</th>\n",
       "      <td>https://cdn.discordapp.com/attachments/1043809...</td>\n",
       "      <td>https://i.imgflip.com/429rd9.jpg</td>\n",
       "      <td>0.722207</td>\n",
       "      <td>2023-05-22T13:25:41.995+00:00</td>\n",
       "      <td>memeplex</td>\n",
       "    </tr>\n",
       "  </tbody>\n",
       "</table>\n",
       "</div>"
      ],
      "text/plain": [
       "                                       discord image   \n",
       "0  https://cdn.discordapp.com/attachments/1043809...  \\\n",
       "1  https://cdn.discordapp.com/attachments/1043809...   \n",
       "2  https://cdn.discordapp.com/attachments/1043809...   \n",
       "\n",
       "                         imkg image     score                      timestamp   \n",
       "0  https://i.imgflip.com/287qcu.jpg  0.735655  2023-05-24T23:10:21.857+00:00  \\\n",
       "1  https://i.imgflip.com/2sr84j.jpg  0.724213  2023-05-22T21:27:55.494+00:00   \n",
       "2  https://i.imgflip.com/429rd9.jpg  0.722207  2023-05-22T13:25:41.995+00:00   \n",
       "\n",
       "    channel  \n",
       "0  memeplex  \n",
       "1  memeplex  \n",
       "2  memeplex  "
      ]
     },
     "execution_count": 16,
     "metadata": {},
     "output_type": "execute_result"
    }
   ],
   "source": [
    "df70 = pd.read_csv('./out/discord_filtered_df_70.csv', index_col=0)\n",
    "df70.head(3)"
   ]
  },
  {
   "cell_type": "code",
   "execution_count": 17,
   "id": "1d9f4186",
   "metadata": {},
   "outputs": [
    {
     "data": {
      "text/plain": [
       "(458, 5)"
      ]
     },
     "execution_count": 17,
     "metadata": {},
     "output_type": "execute_result"
    }
   ],
   "source": [
    "df70 = df70[~df70['imkg image'].isin(filter_list)]\n",
    "df70.to_csv('./out/new_discord_filtered_df_70.csv')\n",
    "df70.shape"
   ]
  },
  {
   "cell_type": "markdown",
   "id": "73391fb8",
   "metadata": {},
   "source": [
    "### 90"
   ]
  },
  {
   "cell_type": "code",
   "execution_count": 20,
   "id": "9d2511a4",
   "metadata": {},
   "outputs": [
    {
     "data": {
      "text/html": [
       "<div>\n",
       "<style scoped>\n",
       "    .dataframe tbody tr th:only-of-type {\n",
       "        vertical-align: middle;\n",
       "    }\n",
       "\n",
       "    .dataframe tbody tr th {\n",
       "        vertical-align: top;\n",
       "    }\n",
       "\n",
       "    .dataframe thead th {\n",
       "        text-align: right;\n",
       "    }\n",
       "</style>\n",
       "<table border=\"1\" class=\"dataframe\">\n",
       "  <thead>\n",
       "    <tr style=\"text-align: right;\">\n",
       "      <th></th>\n",
       "      <th>discord image</th>\n",
       "      <th>imkg image</th>\n",
       "      <th>score</th>\n",
       "      <th>timestamp</th>\n",
       "      <th>channel</th>\n",
       "    </tr>\n",
       "  </thead>\n",
       "  <tbody>\n",
       "    <tr>\n",
       "      <th>0</th>\n",
       "      <td>https://cdn.discordapp.com/attachments/1043809...</td>\n",
       "      <td>https://i.imgflip.com/25monu.jpg</td>\n",
       "      <td>0.919919</td>\n",
       "      <td>2023-05-06T14:22:10.154+00:00</td>\n",
       "      <td>memeplex</td>\n",
       "    </tr>\n",
       "    <tr>\n",
       "      <th>1</th>\n",
       "      <td>https://images-ext-2.discordapp.net/external/f...</td>\n",
       "      <td>https://i.imgflip.com/2gq40u.jpg</td>\n",
       "      <td>0.909998</td>\n",
       "      <td>2023-06-29T15:51:45.053+00:00</td>\n",
       "      <td>TheDungeon</td>\n",
       "    </tr>\n",
       "    <tr>\n",
       "      <th>2</th>\n",
       "      <td>https://images-ext-2.discordapp.net/external/b...</td>\n",
       "      <td>https://i.imgflip.com/1ipv2g.jpg</td>\n",
       "      <td>0.922221</td>\n",
       "      <td>2023-06-28T17:25:10.29+00:00</td>\n",
       "      <td>TheDungeon</td>\n",
       "    </tr>\n",
       "  </tbody>\n",
       "</table>\n",
       "</div>"
      ],
      "text/plain": [
       "                                       discord image   \n",
       "0  https://cdn.discordapp.com/attachments/1043809...  \\\n",
       "1  https://images-ext-2.discordapp.net/external/f...   \n",
       "2  https://images-ext-2.discordapp.net/external/b...   \n",
       "\n",
       "                         imkg image     score                      timestamp   \n",
       "0  https://i.imgflip.com/25monu.jpg  0.919919  2023-05-06T14:22:10.154+00:00  \\\n",
       "1  https://i.imgflip.com/2gq40u.jpg  0.909998  2023-06-29T15:51:45.053+00:00   \n",
       "2  https://i.imgflip.com/1ipv2g.jpg  0.922221   2023-06-28T17:25:10.29+00:00   \n",
       "\n",
       "      channel  \n",
       "0    memeplex  \n",
       "1  TheDungeon  \n",
       "2  TheDungeon  "
      ]
     },
     "execution_count": 20,
     "metadata": {},
     "output_type": "execute_result"
    }
   ],
   "source": [
    "df90 = pd.read_csv('./out/discord_filtered_df_90.csv', index_col=0)\n",
    "df90.head(3)"
   ]
  },
  {
   "cell_type": "code",
   "execution_count": 21,
   "id": "a17058fe",
   "metadata": {},
   "outputs": [
    {
     "data": {
      "text/plain": [
       "(44, 5)"
      ]
     },
     "execution_count": 21,
     "metadata": {},
     "output_type": "execute_result"
    }
   ],
   "source": [
    "df90 = df90[~df90['imkg image'].isin(filter_list)]\n",
    "df90.to_csv('./out/new_discord_filtered_df_90.csv')\n",
    "df90.shape"
   ]
  },
  {
   "cell_type": "markdown",
   "id": "7b6bcc3f",
   "metadata": {},
   "source": [
    "### Entire discord"
   ]
  },
  {
   "cell_type": "code",
   "execution_count": 24,
   "id": "22c31eb7",
   "metadata": {},
   "outputs": [
    {
     "data": {
      "text/html": [
       "<div>\n",
       "<style scoped>\n",
       "    .dataframe tbody tr th:only-of-type {\n",
       "        vertical-align: middle;\n",
       "    }\n",
       "\n",
       "    .dataframe tbody tr th {\n",
       "        vertical-align: top;\n",
       "    }\n",
       "\n",
       "    .dataframe thead th {\n",
       "        text-align: right;\n",
       "    }\n",
       "</style>\n",
       "<table border=\"1\" class=\"dataframe\">\n",
       "  <thead>\n",
       "    <tr style=\"text-align: right;\">\n",
       "      <th></th>\n",
       "      <th>discord image</th>\n",
       "      <th>imkg image</th>\n",
       "      <th>score</th>\n",
       "      <th>timestamp</th>\n",
       "      <th>channel</th>\n",
       "    </tr>\n",
       "  </thead>\n",
       "  <tbody>\n",
       "    <tr>\n",
       "      <th>0</th>\n",
       "      <td>https://cdn.discordapp.com/attachments/1043809...</td>\n",
       "      <td>https://i.imgflip.com/5llej1.jpg</td>\n",
       "      <td>0.218845</td>\n",
       "      <td>2023-05-24T23:43:54.324+00:00</td>\n",
       "      <td>memeplex</td>\n",
       "    </tr>\n",
       "    <tr>\n",
       "      <th>1</th>\n",
       "      <td>https://cdn.discordapp.com/attachments/1043809...</td>\n",
       "      <td>https://i.imgflip.com/6e80xv.jpg</td>\n",
       "      <td>0.481982</td>\n",
       "      <td>2023-05-24T23:36:46.33+00:00</td>\n",
       "      <td>memeplex</td>\n",
       "    </tr>\n",
       "    <tr>\n",
       "      <th>2</th>\n",
       "      <td>https://cdn.discordapp.com/attachments/1043809...</td>\n",
       "      <td>https://i.imgflip.com/287qcu.jpg</td>\n",
       "      <td>0.735655</td>\n",
       "      <td>2023-05-24T23:10:21.857+00:00</td>\n",
       "      <td>memeplex</td>\n",
       "    </tr>\n",
       "  </tbody>\n",
       "</table>\n",
       "</div>"
      ],
      "text/plain": [
       "                                       discord image   \n",
       "0  https://cdn.discordapp.com/attachments/1043809...  \\\n",
       "1  https://cdn.discordapp.com/attachments/1043809...   \n",
       "2  https://cdn.discordapp.com/attachments/1043809...   \n",
       "\n",
       "                         imkg image     score                      timestamp   \n",
       "0  https://i.imgflip.com/5llej1.jpg  0.218845  2023-05-24T23:43:54.324+00:00  \\\n",
       "1  https://i.imgflip.com/6e80xv.jpg  0.481982   2023-05-24T23:36:46.33+00:00   \n",
       "2  https://i.imgflip.com/287qcu.jpg  0.735655  2023-05-24T23:10:21.857+00:00   \n",
       "\n",
       "    channel  \n",
       "0  memeplex  \n",
       "1  memeplex  \n",
       "2  memeplex  "
      ]
     },
     "execution_count": 24,
     "metadata": {},
     "output_type": "execute_result"
    }
   ],
   "source": [
    "df = pd.read_csv('./out/discord_inference.csv', index_col=0)\n",
    "df.head(3)"
   ]
  },
  {
   "cell_type": "code",
   "execution_count": 25,
   "id": "d8419aaa",
   "metadata": {},
   "outputs": [
    {
     "data": {
      "text/plain": [
       "(12242, 5)"
      ]
     },
     "execution_count": 25,
     "metadata": {},
     "output_type": "execute_result"
    }
   ],
   "source": [
    "df = df[~df['imkg image'].isin(filter_list)]\n",
    "df.to_csv('./out/new_discord_inference.csv')\n",
    "df.shape"
   ]
  },
  {
   "cell_type": "code",
   "execution_count": null,
   "id": "2fb702bb",
   "metadata": {},
   "outputs": [],
   "source": []
  }
 ],
 "metadata": {
  "kernelspec": {
   "display_name": "Python 3 (ipykernel)",
   "language": "python",
   "name": "python3"
  },
  "language_info": {
   "codemirror_mode": {
    "name": "ipython",
    "version": 3
   },
   "file_extension": ".py",
   "mimetype": "text/x-python",
   "name": "python",
   "nbconvert_exporter": "python",
   "pygments_lexer": "ipython3",
   "version": "3.8.16"
  }
 },
 "nbformat": 4,
 "nbformat_minor": 5
}
