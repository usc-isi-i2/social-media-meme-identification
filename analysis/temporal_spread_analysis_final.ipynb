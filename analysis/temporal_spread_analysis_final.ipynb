{
 "cells": [
  {
   "cell_type": "code",
   "execution_count": 1,
   "id": "9a84d3fd",
   "metadata": {},
   "outputs": [],
   "source": [
    "import pandas as pd\n",
    "from tqdm import tqdm\n",
    "import matplotlib.pyplot as plt\n",
    "import plotly.express as px\n",
    "import plotly.io as pio\n",
    "import plotly.graph_objs as go\n",
    "from plotly.subplots import make_subplots\n",
    "import IPython.display as display\n",
    "from IPython.display import HTML"
   ]
  },
  {
   "cell_type": "code",
   "execution_count": 29,
   "id": "41cdc806",
   "metadata": {},
   "outputs": [],
   "source": [
    "GITHUB_RENDER = False"
   ]
  },
  {
   "cell_type": "code",
   "execution_count": 62,
   "id": "ae41f2f6",
   "metadata": {},
   "outputs": [],
   "source": [
    "def basic_line_plotly(plot_df, x, y, color_col, xt, yt, title, WIDTH, HEIGHT):\n",
    "    fig = px.line(plot_df, x=x, y=y, color=color_col, labels={'x': xt, 'y': yt})\n",
    "    fig.update_layout(title_x=0.5, width=WIDTH, height=HEIGHT, yaxis=dict(title=\"Count\", tickformat=',d', \n",
    "            tickfont=dict(size=16, family=\"Courier New, monospace\"),\n",
    "            title_font=dict(size=16)), xaxis=dict(\n",
    "            tickfont=dict(size=16, family=\"Courier New, monospace\"),\n",
    "            title_font=dict(size=16)\n",
    "        ), xaxis_title_font=dict(size=16, family=\"Courier New, monospace\"),\n",
    "        yaxis_title_font=dict(size=16, family=\"Courier New, monospace\"),\n",
    "        legend=dict(\n",
    "            font=dict(size=16, family=\"Courier New, monospace\"),\n",
    "            title_font=dict(size=16, family=\"Courier New, monospace\"),\n",
    "            orientation=\"h\", \n",
    "            yanchor=\"bottom\",\n",
    "            y=-0.4, \n",
    "            xanchor=\"center\",\n",
    "            x=0.5\n",
    "        ),\n",
    "        margin=dict(b=100)\n",
    "    )\n",
    "    fig.update_xaxes(range=['2023-07-01', '2023-07-31'])\n",
    "    if GITHUB_RENDER:\n",
    "        image_bytes = pio.to_image(fig, format='png')\n",
    "        display.display(display.Image(image_bytes))\n",
    "    else:\n",
    "        fig.show()"
   ]
  },
  {
   "cell_type": "markdown",
   "id": "419eaf9a",
   "metadata": {},
   "source": [
    "# Reddit"
   ]
  },
  {
   "cell_type": "code",
   "execution_count": 64,
   "id": "54a269db",
   "metadata": {},
   "outputs": [
    {
     "data": {
      "text/html": [
       "<div>\n",
       "<style scoped>\n",
       "    .dataframe tbody tr th:only-of-type {\n",
       "        vertical-align: middle;\n",
       "    }\n",
       "\n",
       "    .dataframe tbody tr th {\n",
       "        vertical-align: top;\n",
       "    }\n",
       "\n",
       "    .dataframe thead th {\n",
       "        text-align: right;\n",
       "    }\n",
       "</style>\n",
       "<table border=\"1\" class=\"dataframe\">\n",
       "  <thead>\n",
       "    <tr style=\"text-align: right;\">\n",
       "      <th></th>\n",
       "      <th>reddit image</th>\n",
       "      <th>imkg image</th>\n",
       "      <th>score</th>\n",
       "    </tr>\n",
       "  </thead>\n",
       "  <tbody>\n",
       "    <tr>\n",
       "      <th>0</th>\n",
       "      <td>meme/s96e69g5t7ab1.jpg</td>\n",
       "      <td>https://i.imgflip.com/2twnaq.jpg</td>\n",
       "      <td>0.868993</td>\n",
       "    </tr>\n",
       "    <tr>\n",
       "      <th>1</th>\n",
       "      <td>meme/e9gksc03f7ab1.jpg</td>\n",
       "      <td>https://i.imgflip.com/544pnd.jpg</td>\n",
       "      <td>0.730533</td>\n",
       "    </tr>\n",
       "    <tr>\n",
       "      <th>2</th>\n",
       "      <td>meme/t8jgr364z6ab1.jpg</td>\n",
       "      <td>https://i.imgflip.com/3h4dth.jpg</td>\n",
       "      <td>0.624141</td>\n",
       "    </tr>\n",
       "    <tr>\n",
       "      <th>3</th>\n",
       "      <td>meme/ivr37kvgl6ab1.jpg</td>\n",
       "      <td>https://i.imgflip.com/5secj1.jpg</td>\n",
       "      <td>0.657292</td>\n",
       "    </tr>\n",
       "    <tr>\n",
       "      <th>4</th>\n",
       "      <td>meme/wjgmc07y76ab1.png</td>\n",
       "      <td>https://i.imgflip.com/2xmijc.jpg</td>\n",
       "      <td>0.835818</td>\n",
       "    </tr>\n",
       "  </tbody>\n",
       "</table>\n",
       "</div>"
      ],
      "text/plain": [
       "             reddit image                        imkg image     score\n",
       "0  meme/s96e69g5t7ab1.jpg  https://i.imgflip.com/2twnaq.jpg  0.868993\n",
       "1  meme/e9gksc03f7ab1.jpg  https://i.imgflip.com/544pnd.jpg  0.730533\n",
       "2  meme/t8jgr364z6ab1.jpg  https://i.imgflip.com/3h4dth.jpg  0.624141\n",
       "3  meme/ivr37kvgl6ab1.jpg  https://i.imgflip.com/5secj1.jpg  0.657292\n",
       "4  meme/wjgmc07y76ab1.png  https://i.imgflip.com/2xmijc.jpg  0.835818"
      ]
     },
     "execution_count": 64,
     "metadata": {},
     "output_type": "execute_result"
    }
   ],
   "source": [
    "df = pd.read_csv('../out/new_filtered_df_60_final.csv', index_col=0)\n",
    "df.head()"
   ]
  },
  {
   "cell_type": "code",
   "execution_count": 65,
   "id": "e8511072",
   "metadata": {},
   "outputs": [
    {
     "name": "stderr",
     "output_type": "stream",
     "text": [
      "1326032it [00:01, 1295389.64it/s]\n"
     ]
    }
   ],
   "source": [
    "imkg_templates = pd.read_csv('../graph/out/imkg_templates.tsv', sep='\\t')\n",
    "node1 = list(imkg_templates['node1'].values)\n",
    "node2 = list(imkg_templates['node2'].values)\n",
    "df_imkg_nodes = list(df['imkg image'].values)\n",
    "df_imkg_nodes = [x.split('/')[-1].split('.')[0] for x in df_imkg_nodes]\n",
    "back_dict = {}\n",
    "final_dict = {}\n",
    "for x, y in tqdm(zip(node1, node2)):\n",
    "    back_dict[x.split(':')[-1]] = y"
   ]
  },
  {
   "cell_type": "code",
   "execution_count": 66,
   "id": "4559ae4d",
   "metadata": {},
   "outputs": [
    {
     "name": "stderr",
     "output_type": "stream",
     "text": [
      "1953it [01:23, 23.33it/s]\n"
     ]
    }
   ],
   "source": [
    "# Add timestamp information\n",
    "modified_df = pd.DataFrame(columns=[\"reddit image\", \"imkg image\", \"score\", \"timestamp\", \"reddit score\", \"IMKG Class\"])\n",
    "for row in tqdm(df.iterrows()):\n",
    "    reddit_image = row[1]['reddit image']\n",
    "    ri_cat = reddit_image.split('/')[0]+\"_transformed.csv\"\n",
    "    df_file = pd.read_csv('../data/final_files/s3_df_{}'.format(ri_cat))\n",
    "    ts = df_file[df_file['image_location'] == reddit_image]['timestamp'].values[0]\n",
    "    reddit_score = df_file[df_file['image_location'] == reddit_image]['score'].values[0]\n",
    "    \n",
    "    imkg_image = row[1]['imkg image']\n",
    "    imkg_image = imkg_image.split('/')[-1].split('.')[0]\n",
    "    imkg_image = back_dict[imkg_image].split('/')[-1]\n",
    "    imkg_image = imkg_image.split(':')[-1]\n",
    "    \n",
    "    modified_df.loc[len(modified_df)] = [row[1]['reddit image'], row[1]['imkg image'], row[1]['score'], ts, reddit_score, imkg_image]"
   ]
  },
  {
   "cell_type": "code",
   "execution_count": 67,
   "id": "29c5062e",
   "metadata": {},
   "outputs": [
    {
     "data": {
      "text/plain": [
       "(1953, 6)"
      ]
     },
     "execution_count": 67,
     "metadata": {},
     "output_type": "execute_result"
    }
   ],
   "source": [
    "modified_df.shape"
   ]
  },
  {
   "cell_type": "code",
   "execution_count": 68,
   "id": "685be4e2",
   "metadata": {},
   "outputs": [
    {
     "data": {
      "text/html": [
       "<div>\n",
       "<style scoped>\n",
       "    .dataframe tbody tr th:only-of-type {\n",
       "        vertical-align: middle;\n",
       "    }\n",
       "\n",
       "    .dataframe tbody tr th {\n",
       "        vertical-align: top;\n",
       "    }\n",
       "\n",
       "    .dataframe thead th {\n",
       "        text-align: right;\n",
       "    }\n",
       "</style>\n",
       "<table border=\"1\" class=\"dataframe\">\n",
       "  <thead>\n",
       "    <tr style=\"text-align: right;\">\n",
       "      <th></th>\n",
       "      <th>reddit image</th>\n",
       "      <th>imkg image</th>\n",
       "      <th>score</th>\n",
       "      <th>timestamp</th>\n",
       "      <th>reddit score</th>\n",
       "      <th>IMKG Class</th>\n",
       "    </tr>\n",
       "  </thead>\n",
       "  <tbody>\n",
       "    <tr>\n",
       "      <th>0</th>\n",
       "      <td>meme/s96e69g5t7ab1.jpg</td>\n",
       "      <td>https://i.imgflip.com/2twnaq.jpg</td>\n",
       "      <td>0.868993</td>\n",
       "      <td>2023-07-05 21:32:17</td>\n",
       "      <td>4.0</td>\n",
       "      <td>Pimples-Zero</td>\n",
       "    </tr>\n",
       "    <tr>\n",
       "      <th>1</th>\n",
       "      <td>meme/e9gksc03f7ab1.jpg</td>\n",
       "      <td>https://i.imgflip.com/544pnd.jpg</td>\n",
       "      <td>0.730533</td>\n",
       "      <td>2023-07-05 20:13:27</td>\n",
       "      <td>6.0</td>\n",
       "      <td>Giga-Chad</td>\n",
       "    </tr>\n",
       "    <tr>\n",
       "      <th>2</th>\n",
       "      <td>meme/t8jgr364z6ab1.jpg</td>\n",
       "      <td>https://i.imgflip.com/3h4dth.jpg</td>\n",
       "      <td>0.624141</td>\n",
       "      <td>2023-07-05 18:44:06</td>\n",
       "      <td>10.0</td>\n",
       "      <td>BestBetter-Blurst</td>\n",
       "    </tr>\n",
       "    <tr>\n",
       "      <th>3</th>\n",
       "      <td>meme/ivr37kvgl6ab1.jpg</td>\n",
       "      <td>https://i.imgflip.com/5secj1.jpg</td>\n",
       "      <td>0.657292</td>\n",
       "      <td>2023-07-05 17:27:24</td>\n",
       "      <td>1.0</td>\n",
       "      <td>Gus-Fring-we-are-not-the-same</td>\n",
       "    </tr>\n",
       "    <tr>\n",
       "      <th>4</th>\n",
       "      <td>meme/wjgmc07y76ab1.png</td>\n",
       "      <td>https://i.imgflip.com/2xmijc.jpg</td>\n",
       "      <td>0.835818</td>\n",
       "      <td>2023-07-05 16:12:57</td>\n",
       "      <td>11.0</td>\n",
       "      <td>big-yellow-ball-and</td>\n",
       "    </tr>\n",
       "  </tbody>\n",
       "</table>\n",
       "</div>"
      ],
      "text/plain": [
       "             reddit image                        imkg image     score   \n",
       "0  meme/s96e69g5t7ab1.jpg  https://i.imgflip.com/2twnaq.jpg  0.868993  \\\n",
       "1  meme/e9gksc03f7ab1.jpg  https://i.imgflip.com/544pnd.jpg  0.730533   \n",
       "2  meme/t8jgr364z6ab1.jpg  https://i.imgflip.com/3h4dth.jpg  0.624141   \n",
       "3  meme/ivr37kvgl6ab1.jpg  https://i.imgflip.com/5secj1.jpg  0.657292   \n",
       "4  meme/wjgmc07y76ab1.png  https://i.imgflip.com/2xmijc.jpg  0.835818   \n",
       "\n",
       "             timestamp  reddit score                     IMKG Class  \n",
       "0  2023-07-05 21:32:17           4.0                   Pimples-Zero  \n",
       "1  2023-07-05 20:13:27           6.0                      Giga-Chad  \n",
       "2  2023-07-05 18:44:06          10.0              BestBetter-Blurst  \n",
       "3  2023-07-05 17:27:24           1.0  Gus-Fring-we-are-not-the-same  \n",
       "4  2023-07-05 16:12:57          11.0            big-yellow-ball-and  "
      ]
     },
     "execution_count": 68,
     "metadata": {},
     "output_type": "execute_result"
    }
   ],
   "source": [
    "modified_df.head()"
   ]
  },
  {
   "cell_type": "code",
   "execution_count": 69,
   "id": "e09d69ef",
   "metadata": {},
   "outputs": [
    {
     "data": {
      "text/plain": [
       "IMKG Class\n",
       "Drake-Hotline-Bling                       43\n",
       "Press-button-hard-choice                  30\n",
       "Afraid-To-Ask-Andy                        30\n",
       "Mother-Ignoring-Kid-Drowning-In-A-Pool    28\n",
       "undertaker                                26\n",
       "                                          ..\n",
       "3rd-Place-Celebration                      1\n",
       "1950s-Middle-Finger                        1\n",
       "Shrek-Fiona-Harold-Donkey                  1\n",
       "what-is-my-purpose                         1\n",
       "salt-bae                                   1\n",
       "Name: count, Length: 535, dtype: int64"
      ]
     },
     "execution_count": 69,
     "metadata": {},
     "output_type": "execute_result"
    }
   ],
   "source": [
    "modified_df['IMKG Class'].value_counts()"
   ]
  },
  {
   "cell_type": "code",
   "execution_count": 70,
   "id": "16515a28",
   "metadata": {},
   "outputs": [],
   "source": [
    "# Popular IMKG class\n",
    "popular_imkg_class = [\"Drake-Hotline-Bling\", \"Press-button-hard-choice\", \"Afraid-To-Ask-Andy\", \\\n",
    "                 \"Mother-Ignoring-Kid-Drowning-In-A-Pool\", \"undertaker\"]"
   ]
  },
  {
   "cell_type": "code",
   "execution_count": 71,
   "id": "3d8a1fd1",
   "metadata": {},
   "outputs": [
    {
     "data": {
      "text/plain": [
       "(157, 6)"
      ]
     },
     "execution_count": 71,
     "metadata": {},
     "output_type": "execute_result"
    }
   ],
   "source": [
    "# Filter rest of the classes\n",
    "popular_df = modified_df[modified_df['IMKG Class'].isin(popular_imkg_class)]\n",
    "popular_df.shape"
   ]
  },
  {
   "cell_type": "code",
   "execution_count": 72,
   "id": "b49c1d89",
   "metadata": {},
   "outputs": [
    {
     "data": {
      "text/html": [
       "<div>\n",
       "<style scoped>\n",
       "    .dataframe tbody tr th:only-of-type {\n",
       "        vertical-align: middle;\n",
       "    }\n",
       "\n",
       "    .dataframe tbody tr th {\n",
       "        vertical-align: top;\n",
       "    }\n",
       "\n",
       "    .dataframe thead th {\n",
       "        text-align: right;\n",
       "    }\n",
       "</style>\n",
       "<table border=\"1\" class=\"dataframe\">\n",
       "  <thead>\n",
       "    <tr style=\"text-align: right;\">\n",
       "      <th></th>\n",
       "      <th>reddit image</th>\n",
       "      <th>imkg image</th>\n",
       "      <th>score</th>\n",
       "      <th>timestamp</th>\n",
       "      <th>reddit score</th>\n",
       "      <th>IMKG Class</th>\n",
       "    </tr>\n",
       "  </thead>\n",
       "  <tbody>\n",
       "    <tr>\n",
       "      <th>20</th>\n",
       "      <td>meme/ctm1aw9wkz9b1.jpg</td>\n",
       "      <td>https://i.imgflip.com/46hivo.jpg</td>\n",
       "      <td>0.801495</td>\n",
       "      <td>2023-07-04 17:51:43</td>\n",
       "      <td>6.0</td>\n",
       "      <td>Mother-Ignoring-Kid-Drowning-In-A-Pool</td>\n",
       "    </tr>\n",
       "    <tr>\n",
       "      <th>21</th>\n",
       "      <td>meme/013ku8ie7z9b1.jpg</td>\n",
       "      <td>https://i.imgflip.com/101or6.jpg</td>\n",
       "      <td>0.800860</td>\n",
       "      <td>2023-07-04 16:36:04</td>\n",
       "      <td>4.0</td>\n",
       "      <td>Afraid-To-Ask-Andy</td>\n",
       "    </tr>\n",
       "    <tr>\n",
       "      <th>23</th>\n",
       "      <td>meme/s1vcopevtx9b1.jpg</td>\n",
       "      <td>https://i.imgflip.com/431kiz.jpg</td>\n",
       "      <td>0.820349</td>\n",
       "      <td>2023-07-04 11:58:28</td>\n",
       "      <td>3238.0</td>\n",
       "      <td>Press-button-hard-choice</td>\n",
       "    </tr>\n",
       "    <tr>\n",
       "      <th>26</th>\n",
       "      <td>meme/x3c8vrscsu9b1.jpg</td>\n",
       "      <td>https://i.imgflip.com/101or6.jpg</td>\n",
       "      <td>0.654990</td>\n",
       "      <td>2023-07-04 01:44:38</td>\n",
       "      <td>22.0</td>\n",
       "      <td>Afraid-To-Ask-Andy</td>\n",
       "    </tr>\n",
       "    <tr>\n",
       "      <th>27</th>\n",
       "      <td>meme/zlrx6ymd3u9b1.jpg</td>\n",
       "      <td>https://i.imgflip.com/1gndfw.jpg</td>\n",
       "      <td>0.710332</td>\n",
       "      <td>2023-07-03 23:24:37</td>\n",
       "      <td>2.0</td>\n",
       "      <td>Drake-Hotline-Bling</td>\n",
       "    </tr>\n",
       "  </tbody>\n",
       "</table>\n",
       "</div>"
      ],
      "text/plain": [
       "              reddit image                        imkg image     score   \n",
       "20  meme/ctm1aw9wkz9b1.jpg  https://i.imgflip.com/46hivo.jpg  0.801495  \\\n",
       "21  meme/013ku8ie7z9b1.jpg  https://i.imgflip.com/101or6.jpg  0.800860   \n",
       "23  meme/s1vcopevtx9b1.jpg  https://i.imgflip.com/431kiz.jpg  0.820349   \n",
       "26  meme/x3c8vrscsu9b1.jpg  https://i.imgflip.com/101or6.jpg  0.654990   \n",
       "27  meme/zlrx6ymd3u9b1.jpg  https://i.imgflip.com/1gndfw.jpg  0.710332   \n",
       "\n",
       "              timestamp  reddit score                              IMKG Class  \n",
       "20  2023-07-04 17:51:43           6.0  Mother-Ignoring-Kid-Drowning-In-A-Pool  \n",
       "21  2023-07-04 16:36:04           4.0                      Afraid-To-Ask-Andy  \n",
       "23  2023-07-04 11:58:28        3238.0                Press-button-hard-choice  \n",
       "26  2023-07-04 01:44:38          22.0                      Afraid-To-Ask-Andy  \n",
       "27  2023-07-03 23:24:37           2.0                     Drake-Hotline-Bling  "
      ]
     },
     "execution_count": 72,
     "metadata": {},
     "output_type": "execute_result"
    }
   ],
   "source": [
    "popular_df.head()"
   ]
  },
  {
   "cell_type": "markdown",
   "id": "578bb31b",
   "metadata": {},
   "source": [
    "## Daily trend analysis"
   ]
  },
  {
   "cell_type": "code",
   "execution_count": 73,
   "id": "b42817bb",
   "metadata": {},
   "outputs": [
    {
     "name": "stderr",
     "output_type": "stream",
     "text": [
      "/tmp/ipykernel_103420/2178585255.py:1: SettingWithCopyWarning:\n",
      "\n",
      "\n",
      "A value is trying to be set on a copy of a slice from a DataFrame.\n",
      "Try using .loc[row_indexer,col_indexer] = value instead\n",
      "\n",
      "See the caveats in the documentation: https://pandas.pydata.org/pandas-docs/stable/user_guide/indexing.html#returning-a-view-versus-a-copy\n",
      "\n",
      "/tmp/ipykernel_103420/2178585255.py:2: SettingWithCopyWarning:\n",
      "\n",
      "\n",
      "A value is trying to be set on a copy of a slice from a DataFrame.\n",
      "Try using .loc[row_indexer,col_indexer] = value instead\n",
      "\n",
      "See the caveats in the documentation: https://pandas.pydata.org/pandas-docs/stable/user_guide/indexing.html#returning-a-view-versus-a-copy\n",
      "\n"
     ]
    }
   ],
   "source": [
    "popular_df['Date'] = pd.to_datetime(popular_df['timestamp'])\n",
    "popular_df['Date'] = pd.to_datetime(popular_df['Date'])\n",
    "popular_df.set_index('Date', inplace=True)\n",
    "popular_weekly_df = popular_df.groupby('IMKG Class').resample('W-MON').size().reset_index(name='Counts')"
   ]
  },
  {
   "cell_type": "code",
   "execution_count": 74,
   "id": "eae64d0b",
   "metadata": {},
   "outputs": [
    {
     "data": {
      "application/vnd.plotly.v1+json": {
       "config": {
        "plotlyServerURL": "https://plot.ly"
       },
       "data": [
        {
         "hovertemplate": "IMKG Class=Afraid-To-Ask-Andy<br>Date=%{x}<br>Counts=%{y}<extra></extra>",
         "legendgroup": "Afraid-To-Ask-Andy",
         "line": {
          "color": "#636efa",
          "dash": "solid"
         },
         "marker": {
          "symbol": "circle"
         },
         "mode": "lines",
         "name": "Afraid-To-Ask-Andy",
         "orientation": "v",
         "showlegend": true,
         "type": "scatter",
         "x": [
          "2023-07-03T00:00:00",
          "2023-07-10T00:00:00",
          "2023-07-17T00:00:00",
          "2023-07-24T00:00:00",
          "2023-07-31T00:00:00"
         ],
         "xaxis": "x",
         "y": [
          2,
          9,
          5,
          9,
          5
         ],
         "yaxis": "y"
        },
        {
         "hovertemplate": "IMKG Class=Drake-Hotline-Bling<br>Date=%{x}<br>Counts=%{y}<extra></extra>",
         "legendgroup": "Drake-Hotline-Bling",
         "line": {
          "color": "#EF553B",
          "dash": "solid"
         },
         "marker": {
          "symbol": "circle"
         },
         "mode": "lines",
         "name": "Drake-Hotline-Bling",
         "orientation": "v",
         "showlegend": true,
         "type": "scatter",
         "x": [
          "2023-07-03T00:00:00",
          "2023-07-10T00:00:00",
          "2023-07-17T00:00:00",
          "2023-07-24T00:00:00",
          "2023-07-31T00:00:00"
         ],
         "xaxis": "x",
         "y": [
          10,
          9,
          7,
          10,
          7
         ],
         "yaxis": "y"
        },
        {
         "hovertemplate": "IMKG Class=Mother-Ignoring-Kid-Drowning-In-A-Pool<br>Date=%{x}<br>Counts=%{y}<extra></extra>",
         "legendgroup": "Mother-Ignoring-Kid-Drowning-In-A-Pool",
         "line": {
          "color": "#00cc96",
          "dash": "solid"
         },
         "marker": {
          "symbol": "circle"
         },
         "mode": "lines",
         "name": "Mother-Ignoring-Kid-Drowning-In-A-Pool",
         "orientation": "v",
         "showlegend": true,
         "type": "scatter",
         "x": [
          "2023-07-03T00:00:00",
          "2023-07-10T00:00:00",
          "2023-07-17T00:00:00",
          "2023-07-24T00:00:00",
          "2023-07-31T00:00:00"
         ],
         "xaxis": "x",
         "y": [
          4,
          4,
          9,
          6,
          5
         ],
         "yaxis": "y"
        },
        {
         "hovertemplate": "IMKG Class=Press-button-hard-choice<br>Date=%{x}<br>Counts=%{y}<extra></extra>",
         "legendgroup": "Press-button-hard-choice",
         "line": {
          "color": "#ab63fa",
          "dash": "solid"
         },
         "marker": {
          "symbol": "circle"
         },
         "mode": "lines",
         "name": "Press-button-hard-choice",
         "orientation": "v",
         "showlegend": true,
         "type": "scatter",
         "x": [
          "2023-07-10T00:00:00",
          "2023-07-17T00:00:00",
          "2023-07-24T00:00:00",
          "2023-07-31T00:00:00"
         ],
         "xaxis": "x",
         "y": [
          12,
          5,
          6,
          7
         ],
         "yaxis": "y"
        },
        {
         "hovertemplate": "IMKG Class=undertaker<br>Date=%{x}<br>Counts=%{y}<extra></extra>",
         "legendgroup": "undertaker",
         "line": {
          "color": "#FFA15A",
          "dash": "solid"
         },
         "marker": {
          "symbol": "circle"
         },
         "mode": "lines",
         "name": "undertaker",
         "orientation": "v",
         "showlegend": true,
         "type": "scatter",
         "x": [
          "2023-07-03T00:00:00",
          "2023-07-10T00:00:00",
          "2023-07-17T00:00:00",
          "2023-07-24T00:00:00",
          "2023-07-31T00:00:00"
         ],
         "xaxis": "x",
         "y": [
          1,
          6,
          5,
          2,
          12
         ],
         "yaxis": "y"
        }
       ],
       "layout": {
        "height": 600,
        "legend": {
         "font": {
          "family": "Courier New, monospace",
          "size": 16
         },
         "orientation": "h",
         "title": {
          "font": {
           "family": "Courier New, monospace",
           "size": 16
          },
          "text": "IMKG Class"
         },
         "tracegroupgap": 0,
         "x": 0.5,
         "xanchor": "center",
         "y": -0.4,
         "yanchor": "bottom"
        },
        "margin": {
         "b": 100,
         "t": 60
        },
        "template": {
         "data": {
          "bar": [
           {
            "error_x": {
             "color": "#2a3f5f"
            },
            "error_y": {
             "color": "#2a3f5f"
            },
            "marker": {
             "line": {
              "color": "#E5ECF6",
              "width": 0.5
             },
             "pattern": {
              "fillmode": "overlay",
              "size": 10,
              "solidity": 0.2
             }
            },
            "type": "bar"
           }
          ],
          "barpolar": [
           {
            "marker": {
             "line": {
              "color": "#E5ECF6",
              "width": 0.5
             },
             "pattern": {
              "fillmode": "overlay",
              "size": 10,
              "solidity": 0.2
             }
            },
            "type": "barpolar"
           }
          ],
          "carpet": [
           {
            "aaxis": {
             "endlinecolor": "#2a3f5f",
             "gridcolor": "white",
             "linecolor": "white",
             "minorgridcolor": "white",
             "startlinecolor": "#2a3f5f"
            },
            "baxis": {
             "endlinecolor": "#2a3f5f",
             "gridcolor": "white",
             "linecolor": "white",
             "minorgridcolor": "white",
             "startlinecolor": "#2a3f5f"
            },
            "type": "carpet"
           }
          ],
          "choropleth": [
           {
            "colorbar": {
             "outlinewidth": 0,
             "ticks": ""
            },
            "type": "choropleth"
           }
          ],
          "contour": [
           {
            "colorbar": {
             "outlinewidth": 0,
             "ticks": ""
            },
            "colorscale": [
             [
              0,
              "#0d0887"
             ],
             [
              0.1111111111111111,
              "#46039f"
             ],
             [
              0.2222222222222222,
              "#7201a8"
             ],
             [
              0.3333333333333333,
              "#9c179e"
             ],
             [
              0.4444444444444444,
              "#bd3786"
             ],
             [
              0.5555555555555556,
              "#d8576b"
             ],
             [
              0.6666666666666666,
              "#ed7953"
             ],
             [
              0.7777777777777778,
              "#fb9f3a"
             ],
             [
              0.8888888888888888,
              "#fdca26"
             ],
             [
              1,
              "#f0f921"
             ]
            ],
            "type": "contour"
           }
          ],
          "contourcarpet": [
           {
            "colorbar": {
             "outlinewidth": 0,
             "ticks": ""
            },
            "type": "contourcarpet"
           }
          ],
          "heatmap": [
           {
            "colorbar": {
             "outlinewidth": 0,
             "ticks": ""
            },
            "colorscale": [
             [
              0,
              "#0d0887"
             ],
             [
              0.1111111111111111,
              "#46039f"
             ],
             [
              0.2222222222222222,
              "#7201a8"
             ],
             [
              0.3333333333333333,
              "#9c179e"
             ],
             [
              0.4444444444444444,
              "#bd3786"
             ],
             [
              0.5555555555555556,
              "#d8576b"
             ],
             [
              0.6666666666666666,
              "#ed7953"
             ],
             [
              0.7777777777777778,
              "#fb9f3a"
             ],
             [
              0.8888888888888888,
              "#fdca26"
             ],
             [
              1,
              "#f0f921"
             ]
            ],
            "type": "heatmap"
           }
          ],
          "heatmapgl": [
           {
            "colorbar": {
             "outlinewidth": 0,
             "ticks": ""
            },
            "colorscale": [
             [
              0,
              "#0d0887"
             ],
             [
              0.1111111111111111,
              "#46039f"
             ],
             [
              0.2222222222222222,
              "#7201a8"
             ],
             [
              0.3333333333333333,
              "#9c179e"
             ],
             [
              0.4444444444444444,
              "#bd3786"
             ],
             [
              0.5555555555555556,
              "#d8576b"
             ],
             [
              0.6666666666666666,
              "#ed7953"
             ],
             [
              0.7777777777777778,
              "#fb9f3a"
             ],
             [
              0.8888888888888888,
              "#fdca26"
             ],
             [
              1,
              "#f0f921"
             ]
            ],
            "type": "heatmapgl"
           }
          ],
          "histogram": [
           {
            "marker": {
             "pattern": {
              "fillmode": "overlay",
              "size": 10,
              "solidity": 0.2
             }
            },
            "type": "histogram"
           }
          ],
          "histogram2d": [
           {
            "colorbar": {
             "outlinewidth": 0,
             "ticks": ""
            },
            "colorscale": [
             [
              0,
              "#0d0887"
             ],
             [
              0.1111111111111111,
              "#46039f"
             ],
             [
              0.2222222222222222,
              "#7201a8"
             ],
             [
              0.3333333333333333,
              "#9c179e"
             ],
             [
              0.4444444444444444,
              "#bd3786"
             ],
             [
              0.5555555555555556,
              "#d8576b"
             ],
             [
              0.6666666666666666,
              "#ed7953"
             ],
             [
              0.7777777777777778,
              "#fb9f3a"
             ],
             [
              0.8888888888888888,
              "#fdca26"
             ],
             [
              1,
              "#f0f921"
             ]
            ],
            "type": "histogram2d"
           }
          ],
          "histogram2dcontour": [
           {
            "colorbar": {
             "outlinewidth": 0,
             "ticks": ""
            },
            "colorscale": [
             [
              0,
              "#0d0887"
             ],
             [
              0.1111111111111111,
              "#46039f"
             ],
             [
              0.2222222222222222,
              "#7201a8"
             ],
             [
              0.3333333333333333,
              "#9c179e"
             ],
             [
              0.4444444444444444,
              "#bd3786"
             ],
             [
              0.5555555555555556,
              "#d8576b"
             ],
             [
              0.6666666666666666,
              "#ed7953"
             ],
             [
              0.7777777777777778,
              "#fb9f3a"
             ],
             [
              0.8888888888888888,
              "#fdca26"
             ],
             [
              1,
              "#f0f921"
             ]
            ],
            "type": "histogram2dcontour"
           }
          ],
          "mesh3d": [
           {
            "colorbar": {
             "outlinewidth": 0,
             "ticks": ""
            },
            "type": "mesh3d"
           }
          ],
          "parcoords": [
           {
            "line": {
             "colorbar": {
              "outlinewidth": 0,
              "ticks": ""
             }
            },
            "type": "parcoords"
           }
          ],
          "pie": [
           {
            "automargin": true,
            "type": "pie"
           }
          ],
          "scatter": [
           {
            "fillpattern": {
             "fillmode": "overlay",
             "size": 10,
             "solidity": 0.2
            },
            "type": "scatter"
           }
          ],
          "scatter3d": [
           {
            "line": {
             "colorbar": {
              "outlinewidth": 0,
              "ticks": ""
             }
            },
            "marker": {
             "colorbar": {
              "outlinewidth": 0,
              "ticks": ""
             }
            },
            "type": "scatter3d"
           }
          ],
          "scattercarpet": [
           {
            "marker": {
             "colorbar": {
              "outlinewidth": 0,
              "ticks": ""
             }
            },
            "type": "scattercarpet"
           }
          ],
          "scattergeo": [
           {
            "marker": {
             "colorbar": {
              "outlinewidth": 0,
              "ticks": ""
             }
            },
            "type": "scattergeo"
           }
          ],
          "scattergl": [
           {
            "marker": {
             "colorbar": {
              "outlinewidth": 0,
              "ticks": ""
             }
            },
            "type": "scattergl"
           }
          ],
          "scattermapbox": [
           {
            "marker": {
             "colorbar": {
              "outlinewidth": 0,
              "ticks": ""
             }
            },
            "type": "scattermapbox"
           }
          ],
          "scatterpolar": [
           {
            "marker": {
             "colorbar": {
              "outlinewidth": 0,
              "ticks": ""
             }
            },
            "type": "scatterpolar"
           }
          ],
          "scatterpolargl": [
           {
            "marker": {
             "colorbar": {
              "outlinewidth": 0,
              "ticks": ""
             }
            },
            "type": "scatterpolargl"
           }
          ],
          "scatterternary": [
           {
            "marker": {
             "colorbar": {
              "outlinewidth": 0,
              "ticks": ""
             }
            },
            "type": "scatterternary"
           }
          ],
          "surface": [
           {
            "colorbar": {
             "outlinewidth": 0,
             "ticks": ""
            },
            "colorscale": [
             [
              0,
              "#0d0887"
             ],
             [
              0.1111111111111111,
              "#46039f"
             ],
             [
              0.2222222222222222,
              "#7201a8"
             ],
             [
              0.3333333333333333,
              "#9c179e"
             ],
             [
              0.4444444444444444,
              "#bd3786"
             ],
             [
              0.5555555555555556,
              "#d8576b"
             ],
             [
              0.6666666666666666,
              "#ed7953"
             ],
             [
              0.7777777777777778,
              "#fb9f3a"
             ],
             [
              0.8888888888888888,
              "#fdca26"
             ],
             [
              1,
              "#f0f921"
             ]
            ],
            "type": "surface"
           }
          ],
          "table": [
           {
            "cells": {
             "fill": {
              "color": "#EBF0F8"
             },
             "line": {
              "color": "white"
             }
            },
            "header": {
             "fill": {
              "color": "#C8D4E3"
             },
             "line": {
              "color": "white"
             }
            },
            "type": "table"
           }
          ]
         },
         "layout": {
          "annotationdefaults": {
           "arrowcolor": "#2a3f5f",
           "arrowhead": 0,
           "arrowwidth": 1
          },
          "autotypenumbers": "strict",
          "coloraxis": {
           "colorbar": {
            "outlinewidth": 0,
            "ticks": ""
           }
          },
          "colorscale": {
           "diverging": [
            [
             0,
             "#8e0152"
            ],
            [
             0.1,
             "#c51b7d"
            ],
            [
             0.2,
             "#de77ae"
            ],
            [
             0.3,
             "#f1b6da"
            ],
            [
             0.4,
             "#fde0ef"
            ],
            [
             0.5,
             "#f7f7f7"
            ],
            [
             0.6,
             "#e6f5d0"
            ],
            [
             0.7,
             "#b8e186"
            ],
            [
             0.8,
             "#7fbc41"
            ],
            [
             0.9,
             "#4d9221"
            ],
            [
             1,
             "#276419"
            ]
           ],
           "sequential": [
            [
             0,
             "#0d0887"
            ],
            [
             0.1111111111111111,
             "#46039f"
            ],
            [
             0.2222222222222222,
             "#7201a8"
            ],
            [
             0.3333333333333333,
             "#9c179e"
            ],
            [
             0.4444444444444444,
             "#bd3786"
            ],
            [
             0.5555555555555556,
             "#d8576b"
            ],
            [
             0.6666666666666666,
             "#ed7953"
            ],
            [
             0.7777777777777778,
             "#fb9f3a"
            ],
            [
             0.8888888888888888,
             "#fdca26"
            ],
            [
             1,
             "#f0f921"
            ]
           ],
           "sequentialminus": [
            [
             0,
             "#0d0887"
            ],
            [
             0.1111111111111111,
             "#46039f"
            ],
            [
             0.2222222222222222,
             "#7201a8"
            ],
            [
             0.3333333333333333,
             "#9c179e"
            ],
            [
             0.4444444444444444,
             "#bd3786"
            ],
            [
             0.5555555555555556,
             "#d8576b"
            ],
            [
             0.6666666666666666,
             "#ed7953"
            ],
            [
             0.7777777777777778,
             "#fb9f3a"
            ],
            [
             0.8888888888888888,
             "#fdca26"
            ],
            [
             1,
             "#f0f921"
            ]
           ]
          },
          "colorway": [
           "#636efa",
           "#EF553B",
           "#00cc96",
           "#ab63fa",
           "#FFA15A",
           "#19d3f3",
           "#FF6692",
           "#B6E880",
           "#FF97FF",
           "#FECB52"
          ],
          "font": {
           "color": "#2a3f5f"
          },
          "geo": {
           "bgcolor": "white",
           "lakecolor": "white",
           "landcolor": "#E5ECF6",
           "showlakes": true,
           "showland": true,
           "subunitcolor": "white"
          },
          "hoverlabel": {
           "align": "left"
          },
          "hovermode": "closest",
          "mapbox": {
           "style": "light"
          },
          "paper_bgcolor": "white",
          "plot_bgcolor": "#E5ECF6",
          "polar": {
           "angularaxis": {
            "gridcolor": "white",
            "linecolor": "white",
            "ticks": ""
           },
           "bgcolor": "#E5ECF6",
           "radialaxis": {
            "gridcolor": "white",
            "linecolor": "white",
            "ticks": ""
           }
          },
          "scene": {
           "xaxis": {
            "backgroundcolor": "#E5ECF6",
            "gridcolor": "white",
            "gridwidth": 2,
            "linecolor": "white",
            "showbackground": true,
            "ticks": "",
            "zerolinecolor": "white"
           },
           "yaxis": {
            "backgroundcolor": "#E5ECF6",
            "gridcolor": "white",
            "gridwidth": 2,
            "linecolor": "white",
            "showbackground": true,
            "ticks": "",
            "zerolinecolor": "white"
           },
           "zaxis": {
            "backgroundcolor": "#E5ECF6",
            "gridcolor": "white",
            "gridwidth": 2,
            "linecolor": "white",
            "showbackground": true,
            "ticks": "",
            "zerolinecolor": "white"
           }
          },
          "shapedefaults": {
           "line": {
            "color": "#2a3f5f"
           }
          },
          "ternary": {
           "aaxis": {
            "gridcolor": "white",
            "linecolor": "white",
            "ticks": ""
           },
           "baxis": {
            "gridcolor": "white",
            "linecolor": "white",
            "ticks": ""
           },
           "bgcolor": "#E5ECF6",
           "caxis": {
            "gridcolor": "white",
            "linecolor": "white",
            "ticks": ""
           }
          },
          "title": {
           "x": 0.05
          },
          "xaxis": {
           "automargin": true,
           "gridcolor": "white",
           "linecolor": "white",
           "ticks": "",
           "title": {
            "standoff": 15
           },
           "zerolinecolor": "white",
           "zerolinewidth": 2
          },
          "yaxis": {
           "automargin": true,
           "gridcolor": "white",
           "linecolor": "white",
           "ticks": "",
           "title": {
            "standoff": 15
           },
           "zerolinecolor": "white",
           "zerolinewidth": 2
          }
         }
        },
        "title": {
         "x": 0.5
        },
        "width": 1000,
        "xaxis": {
         "anchor": "y",
         "domain": [
          0,
          1
         ],
         "range": [
          "2023-07-01",
          "2023-07-31"
         ],
         "tickfont": {
          "family": "Courier New, monospace",
          "size": 16
         },
         "title": {
          "font": {
           "family": "Courier New, monospace",
           "size": 16
          },
          "text": "Date"
         }
        },
        "yaxis": {
         "anchor": "x",
         "domain": [
          0,
          1
         ],
         "tickfont": {
          "family": "Courier New, monospace",
          "size": 16
         },
         "tickformat": ",d",
         "title": {
          "font": {
           "family": "Courier New, monospace",
           "size": 16
          },
          "text": "Count"
         }
        }
       }
      },
      "text/html": [
       "<div>                            <div id=\"d4758da8-84fc-4889-afa4-7a06a4404086\" class=\"plotly-graph-div\" style=\"height:600px; width:1000px;\"></div>            <script type=\"text/javascript\">                require([\"plotly\"], function(Plotly) {                    window.PLOTLYENV=window.PLOTLYENV || {};                                    if (document.getElementById(\"d4758da8-84fc-4889-afa4-7a06a4404086\")) {                    Plotly.newPlot(                        \"d4758da8-84fc-4889-afa4-7a06a4404086\",                        [{\"hovertemplate\":\"IMKG Class=Afraid-To-Ask-Andy\\u003cbr\\u003eDate=%{x}\\u003cbr\\u003eCounts=%{y}\\u003cextra\\u003e\\u003c\\u002fextra\\u003e\",\"legendgroup\":\"Afraid-To-Ask-Andy\",\"line\":{\"color\":\"#636efa\",\"dash\":\"solid\"},\"marker\":{\"symbol\":\"circle\"},\"mode\":\"lines\",\"name\":\"Afraid-To-Ask-Andy\",\"orientation\":\"v\",\"showlegend\":true,\"x\":[\"2023-07-03T00:00:00\",\"2023-07-10T00:00:00\",\"2023-07-17T00:00:00\",\"2023-07-24T00:00:00\",\"2023-07-31T00:00:00\"],\"xaxis\":\"x\",\"y\":[2,9,5,9,5],\"yaxis\":\"y\",\"type\":\"scatter\"},{\"hovertemplate\":\"IMKG Class=Drake-Hotline-Bling\\u003cbr\\u003eDate=%{x}\\u003cbr\\u003eCounts=%{y}\\u003cextra\\u003e\\u003c\\u002fextra\\u003e\",\"legendgroup\":\"Drake-Hotline-Bling\",\"line\":{\"color\":\"#EF553B\",\"dash\":\"solid\"},\"marker\":{\"symbol\":\"circle\"},\"mode\":\"lines\",\"name\":\"Drake-Hotline-Bling\",\"orientation\":\"v\",\"showlegend\":true,\"x\":[\"2023-07-03T00:00:00\",\"2023-07-10T00:00:00\",\"2023-07-17T00:00:00\",\"2023-07-24T00:00:00\",\"2023-07-31T00:00:00\"],\"xaxis\":\"x\",\"y\":[10,9,7,10,7],\"yaxis\":\"y\",\"type\":\"scatter\"},{\"hovertemplate\":\"IMKG Class=Mother-Ignoring-Kid-Drowning-In-A-Pool\\u003cbr\\u003eDate=%{x}\\u003cbr\\u003eCounts=%{y}\\u003cextra\\u003e\\u003c\\u002fextra\\u003e\",\"legendgroup\":\"Mother-Ignoring-Kid-Drowning-In-A-Pool\",\"line\":{\"color\":\"#00cc96\",\"dash\":\"solid\"},\"marker\":{\"symbol\":\"circle\"},\"mode\":\"lines\",\"name\":\"Mother-Ignoring-Kid-Drowning-In-A-Pool\",\"orientation\":\"v\",\"showlegend\":true,\"x\":[\"2023-07-03T00:00:00\",\"2023-07-10T00:00:00\",\"2023-07-17T00:00:00\",\"2023-07-24T00:00:00\",\"2023-07-31T00:00:00\"],\"xaxis\":\"x\",\"y\":[4,4,9,6,5],\"yaxis\":\"y\",\"type\":\"scatter\"},{\"hovertemplate\":\"IMKG Class=Press-button-hard-choice\\u003cbr\\u003eDate=%{x}\\u003cbr\\u003eCounts=%{y}\\u003cextra\\u003e\\u003c\\u002fextra\\u003e\",\"legendgroup\":\"Press-button-hard-choice\",\"line\":{\"color\":\"#ab63fa\",\"dash\":\"solid\"},\"marker\":{\"symbol\":\"circle\"},\"mode\":\"lines\",\"name\":\"Press-button-hard-choice\",\"orientation\":\"v\",\"showlegend\":true,\"x\":[\"2023-07-10T00:00:00\",\"2023-07-17T00:00:00\",\"2023-07-24T00:00:00\",\"2023-07-31T00:00:00\"],\"xaxis\":\"x\",\"y\":[12,5,6,7],\"yaxis\":\"y\",\"type\":\"scatter\"},{\"hovertemplate\":\"IMKG Class=undertaker\\u003cbr\\u003eDate=%{x}\\u003cbr\\u003eCounts=%{y}\\u003cextra\\u003e\\u003c\\u002fextra\\u003e\",\"legendgroup\":\"undertaker\",\"line\":{\"color\":\"#FFA15A\",\"dash\":\"solid\"},\"marker\":{\"symbol\":\"circle\"},\"mode\":\"lines\",\"name\":\"undertaker\",\"orientation\":\"v\",\"showlegend\":true,\"x\":[\"2023-07-03T00:00:00\",\"2023-07-10T00:00:00\",\"2023-07-17T00:00:00\",\"2023-07-24T00:00:00\",\"2023-07-31T00:00:00\"],\"xaxis\":\"x\",\"y\":[1,6,5,2,12],\"yaxis\":\"y\",\"type\":\"scatter\"}],                        {\"template\":{\"data\":{\"histogram2dcontour\":[{\"type\":\"histogram2dcontour\",\"colorbar\":{\"outlinewidth\":0,\"ticks\":\"\"},\"colorscale\":[[0.0,\"#0d0887\"],[0.1111111111111111,\"#46039f\"],[0.2222222222222222,\"#7201a8\"],[0.3333333333333333,\"#9c179e\"],[0.4444444444444444,\"#bd3786\"],[0.5555555555555556,\"#d8576b\"],[0.6666666666666666,\"#ed7953\"],[0.7777777777777778,\"#fb9f3a\"],[0.8888888888888888,\"#fdca26\"],[1.0,\"#f0f921\"]]}],\"choropleth\":[{\"type\":\"choropleth\",\"colorbar\":{\"outlinewidth\":0,\"ticks\":\"\"}}],\"histogram2d\":[{\"type\":\"histogram2d\",\"colorbar\":{\"outlinewidth\":0,\"ticks\":\"\"},\"colorscale\":[[0.0,\"#0d0887\"],[0.1111111111111111,\"#46039f\"],[0.2222222222222222,\"#7201a8\"],[0.3333333333333333,\"#9c179e\"],[0.4444444444444444,\"#bd3786\"],[0.5555555555555556,\"#d8576b\"],[0.6666666666666666,\"#ed7953\"],[0.7777777777777778,\"#fb9f3a\"],[0.8888888888888888,\"#fdca26\"],[1.0,\"#f0f921\"]]}],\"heatmap\":[{\"type\":\"heatmap\",\"colorbar\":{\"outlinewidth\":0,\"ticks\":\"\"},\"colorscale\":[[0.0,\"#0d0887\"],[0.1111111111111111,\"#46039f\"],[0.2222222222222222,\"#7201a8\"],[0.3333333333333333,\"#9c179e\"],[0.4444444444444444,\"#bd3786\"],[0.5555555555555556,\"#d8576b\"],[0.6666666666666666,\"#ed7953\"],[0.7777777777777778,\"#fb9f3a\"],[0.8888888888888888,\"#fdca26\"],[1.0,\"#f0f921\"]]}],\"heatmapgl\":[{\"type\":\"heatmapgl\",\"colorbar\":{\"outlinewidth\":0,\"ticks\":\"\"},\"colorscale\":[[0.0,\"#0d0887\"],[0.1111111111111111,\"#46039f\"],[0.2222222222222222,\"#7201a8\"],[0.3333333333333333,\"#9c179e\"],[0.4444444444444444,\"#bd3786\"],[0.5555555555555556,\"#d8576b\"],[0.6666666666666666,\"#ed7953\"],[0.7777777777777778,\"#fb9f3a\"],[0.8888888888888888,\"#fdca26\"],[1.0,\"#f0f921\"]]}],\"contourcarpet\":[{\"type\":\"contourcarpet\",\"colorbar\":{\"outlinewidth\":0,\"ticks\":\"\"}}],\"contour\":[{\"type\":\"contour\",\"colorbar\":{\"outlinewidth\":0,\"ticks\":\"\"},\"colorscale\":[[0.0,\"#0d0887\"],[0.1111111111111111,\"#46039f\"],[0.2222222222222222,\"#7201a8\"],[0.3333333333333333,\"#9c179e\"],[0.4444444444444444,\"#bd3786\"],[0.5555555555555556,\"#d8576b\"],[0.6666666666666666,\"#ed7953\"],[0.7777777777777778,\"#fb9f3a\"],[0.8888888888888888,\"#fdca26\"],[1.0,\"#f0f921\"]]}],\"surface\":[{\"type\":\"surface\",\"colorbar\":{\"outlinewidth\":0,\"ticks\":\"\"},\"colorscale\":[[0.0,\"#0d0887\"],[0.1111111111111111,\"#46039f\"],[0.2222222222222222,\"#7201a8\"],[0.3333333333333333,\"#9c179e\"],[0.4444444444444444,\"#bd3786\"],[0.5555555555555556,\"#d8576b\"],[0.6666666666666666,\"#ed7953\"],[0.7777777777777778,\"#fb9f3a\"],[0.8888888888888888,\"#fdca26\"],[1.0,\"#f0f921\"]]}],\"mesh3d\":[{\"type\":\"mesh3d\",\"colorbar\":{\"outlinewidth\":0,\"ticks\":\"\"}}],\"scatter\":[{\"fillpattern\":{\"fillmode\":\"overlay\",\"size\":10,\"solidity\":0.2},\"type\":\"scatter\"}],\"parcoords\":[{\"type\":\"parcoords\",\"line\":{\"colorbar\":{\"outlinewidth\":0,\"ticks\":\"\"}}}],\"scatterpolargl\":[{\"type\":\"scatterpolargl\",\"marker\":{\"colorbar\":{\"outlinewidth\":0,\"ticks\":\"\"}}}],\"bar\":[{\"error_x\":{\"color\":\"#2a3f5f\"},\"error_y\":{\"color\":\"#2a3f5f\"},\"marker\":{\"line\":{\"color\":\"#E5ECF6\",\"width\":0.5},\"pattern\":{\"fillmode\":\"overlay\",\"size\":10,\"solidity\":0.2}},\"type\":\"bar\"}],\"scattergeo\":[{\"type\":\"scattergeo\",\"marker\":{\"colorbar\":{\"outlinewidth\":0,\"ticks\":\"\"}}}],\"scatterpolar\":[{\"type\":\"scatterpolar\",\"marker\":{\"colorbar\":{\"outlinewidth\":0,\"ticks\":\"\"}}}],\"histogram\":[{\"marker\":{\"pattern\":{\"fillmode\":\"overlay\",\"size\":10,\"solidity\":0.2}},\"type\":\"histogram\"}],\"scattergl\":[{\"type\":\"scattergl\",\"marker\":{\"colorbar\":{\"outlinewidth\":0,\"ticks\":\"\"}}}],\"scatter3d\":[{\"type\":\"scatter3d\",\"line\":{\"colorbar\":{\"outlinewidth\":0,\"ticks\":\"\"}},\"marker\":{\"colorbar\":{\"outlinewidth\":0,\"ticks\":\"\"}}}],\"scattermapbox\":[{\"type\":\"scattermapbox\",\"marker\":{\"colorbar\":{\"outlinewidth\":0,\"ticks\":\"\"}}}],\"scatterternary\":[{\"type\":\"scatterternary\",\"marker\":{\"colorbar\":{\"outlinewidth\":0,\"ticks\":\"\"}}}],\"scattercarpet\":[{\"type\":\"scattercarpet\",\"marker\":{\"colorbar\":{\"outlinewidth\":0,\"ticks\":\"\"}}}],\"carpet\":[{\"aaxis\":{\"endlinecolor\":\"#2a3f5f\",\"gridcolor\":\"white\",\"linecolor\":\"white\",\"minorgridcolor\":\"white\",\"startlinecolor\":\"#2a3f5f\"},\"baxis\":{\"endlinecolor\":\"#2a3f5f\",\"gridcolor\":\"white\",\"linecolor\":\"white\",\"minorgridcolor\":\"white\",\"startlinecolor\":\"#2a3f5f\"},\"type\":\"carpet\"}],\"table\":[{\"cells\":{\"fill\":{\"color\":\"#EBF0F8\"},\"line\":{\"color\":\"white\"}},\"header\":{\"fill\":{\"color\":\"#C8D4E3\"},\"line\":{\"color\":\"white\"}},\"type\":\"table\"}],\"barpolar\":[{\"marker\":{\"line\":{\"color\":\"#E5ECF6\",\"width\":0.5},\"pattern\":{\"fillmode\":\"overlay\",\"size\":10,\"solidity\":0.2}},\"type\":\"barpolar\"}],\"pie\":[{\"automargin\":true,\"type\":\"pie\"}]},\"layout\":{\"autotypenumbers\":\"strict\",\"colorway\":[\"#636efa\",\"#EF553B\",\"#00cc96\",\"#ab63fa\",\"#FFA15A\",\"#19d3f3\",\"#FF6692\",\"#B6E880\",\"#FF97FF\",\"#FECB52\"],\"font\":{\"color\":\"#2a3f5f\"},\"hovermode\":\"closest\",\"hoverlabel\":{\"align\":\"left\"},\"paper_bgcolor\":\"white\",\"plot_bgcolor\":\"#E5ECF6\",\"polar\":{\"bgcolor\":\"#E5ECF6\",\"angularaxis\":{\"gridcolor\":\"white\",\"linecolor\":\"white\",\"ticks\":\"\"},\"radialaxis\":{\"gridcolor\":\"white\",\"linecolor\":\"white\",\"ticks\":\"\"}},\"ternary\":{\"bgcolor\":\"#E5ECF6\",\"aaxis\":{\"gridcolor\":\"white\",\"linecolor\":\"white\",\"ticks\":\"\"},\"baxis\":{\"gridcolor\":\"white\",\"linecolor\":\"white\",\"ticks\":\"\"},\"caxis\":{\"gridcolor\":\"white\",\"linecolor\":\"white\",\"ticks\":\"\"}},\"coloraxis\":{\"colorbar\":{\"outlinewidth\":0,\"ticks\":\"\"}},\"colorscale\":{\"sequential\":[[0.0,\"#0d0887\"],[0.1111111111111111,\"#46039f\"],[0.2222222222222222,\"#7201a8\"],[0.3333333333333333,\"#9c179e\"],[0.4444444444444444,\"#bd3786\"],[0.5555555555555556,\"#d8576b\"],[0.6666666666666666,\"#ed7953\"],[0.7777777777777778,\"#fb9f3a\"],[0.8888888888888888,\"#fdca26\"],[1.0,\"#f0f921\"]],\"sequentialminus\":[[0.0,\"#0d0887\"],[0.1111111111111111,\"#46039f\"],[0.2222222222222222,\"#7201a8\"],[0.3333333333333333,\"#9c179e\"],[0.4444444444444444,\"#bd3786\"],[0.5555555555555556,\"#d8576b\"],[0.6666666666666666,\"#ed7953\"],[0.7777777777777778,\"#fb9f3a\"],[0.8888888888888888,\"#fdca26\"],[1.0,\"#f0f921\"]],\"diverging\":[[0,\"#8e0152\"],[0.1,\"#c51b7d\"],[0.2,\"#de77ae\"],[0.3,\"#f1b6da\"],[0.4,\"#fde0ef\"],[0.5,\"#f7f7f7\"],[0.6,\"#e6f5d0\"],[0.7,\"#b8e186\"],[0.8,\"#7fbc41\"],[0.9,\"#4d9221\"],[1,\"#276419\"]]},\"xaxis\":{\"gridcolor\":\"white\",\"linecolor\":\"white\",\"ticks\":\"\",\"title\":{\"standoff\":15},\"zerolinecolor\":\"white\",\"automargin\":true,\"zerolinewidth\":2},\"yaxis\":{\"gridcolor\":\"white\",\"linecolor\":\"white\",\"ticks\":\"\",\"title\":{\"standoff\":15},\"zerolinecolor\":\"white\",\"automargin\":true,\"zerolinewidth\":2},\"scene\":{\"xaxis\":{\"backgroundcolor\":\"#E5ECF6\",\"gridcolor\":\"white\",\"linecolor\":\"white\",\"showbackground\":true,\"ticks\":\"\",\"zerolinecolor\":\"white\",\"gridwidth\":2},\"yaxis\":{\"backgroundcolor\":\"#E5ECF6\",\"gridcolor\":\"white\",\"linecolor\":\"white\",\"showbackground\":true,\"ticks\":\"\",\"zerolinecolor\":\"white\",\"gridwidth\":2},\"zaxis\":{\"backgroundcolor\":\"#E5ECF6\",\"gridcolor\":\"white\",\"linecolor\":\"white\",\"showbackground\":true,\"ticks\":\"\",\"zerolinecolor\":\"white\",\"gridwidth\":2}},\"shapedefaults\":{\"line\":{\"color\":\"#2a3f5f\"}},\"annotationdefaults\":{\"arrowcolor\":\"#2a3f5f\",\"arrowhead\":0,\"arrowwidth\":1},\"geo\":{\"bgcolor\":\"white\",\"landcolor\":\"#E5ECF6\",\"subunitcolor\":\"white\",\"showland\":true,\"showlakes\":true,\"lakecolor\":\"white\"},\"title\":{\"x\":0.05},\"mapbox\":{\"style\":\"light\"}}},\"xaxis\":{\"anchor\":\"y\",\"domain\":[0.0,1.0],\"title\":{\"text\":\"Date\",\"font\":{\"size\":16,\"family\":\"Courier New, monospace\"}},\"tickfont\":{\"size\":16,\"family\":\"Courier New, monospace\"},\"range\":[\"2023-07-01\",\"2023-07-31\"]},\"yaxis\":{\"anchor\":\"x\",\"domain\":[0.0,1.0],\"title\":{\"text\":\"Count\",\"font\":{\"size\":16,\"family\":\"Courier New, monospace\"}},\"tickfont\":{\"size\":16,\"family\":\"Courier New, monospace\"},\"tickformat\":\",d\"},\"legend\":{\"title\":{\"text\":\"IMKG Class\",\"font\":{\"size\":16,\"family\":\"Courier New, monospace\"}},\"tracegroupgap\":0,\"font\":{\"size\":16,\"family\":\"Courier New, monospace\"},\"orientation\":\"h\",\"yanchor\":\"bottom\",\"y\":-0.4,\"xanchor\":\"center\",\"x\":0.5},\"margin\":{\"t\":60,\"b\":100},\"title\":{\"x\":0.5},\"width\":1000,\"height\":600},                        {\"responsive\": true}                    ).then(function(){\n",
       "                            \n",
       "var gd = document.getElementById('d4758da8-84fc-4889-afa4-7a06a4404086');\n",
       "var x = new MutationObserver(function (mutations, observer) {{\n",
       "        var display = window.getComputedStyle(gd).display;\n",
       "        if (!display || display === 'none') {{\n",
       "            console.log([gd, 'removed!']);\n",
       "            Plotly.purge(gd);\n",
       "            observer.disconnect();\n",
       "        }}\n",
       "}});\n",
       "\n",
       "// Listen for the removal of the full notebook cells\n",
       "var notebookContainer = gd.closest('#notebook-container');\n",
       "if (notebookContainer) {{\n",
       "    x.observe(notebookContainer, {childList: true});\n",
       "}}\n",
       "\n",
       "// Listen for the clearing of the current output cell\n",
       "var outputEl = gd.closest('.output');\n",
       "if (outputEl) {{\n",
       "    x.observe(outputEl, {childList: true});\n",
       "}}\n",
       "\n",
       "                        })                };                });            </script>        </div>"
      ]
     },
     "metadata": {},
     "output_type": "display_data"
    }
   ],
   "source": [
    "basic_line_plotly(popular_weekly_df, x='Date', y='Counts', \\\n",
    "                  color_col='IMKG Class', xt='Date', \\\n",
    "                  yt='Count', title='Temporal Spread of Memes in Reddit', \\\n",
    "                  WIDTH=1000, HEIGHT=600)"
   ]
  },
  {
   "cell_type": "markdown",
   "id": "7ee45696",
   "metadata": {},
   "source": [
    "# Discord"
   ]
  },
  {
   "cell_type": "code",
   "execution_count": 75,
   "id": "7c1173af",
   "metadata": {},
   "outputs": [
    {
     "data": {
      "text/html": [
       "<div>\n",
       "<style scoped>\n",
       "    .dataframe tbody tr th:only-of-type {\n",
       "        vertical-align: middle;\n",
       "    }\n",
       "\n",
       "    .dataframe tbody tr th {\n",
       "        vertical-align: top;\n",
       "    }\n",
       "\n",
       "    .dataframe thead th {\n",
       "        text-align: right;\n",
       "    }\n",
       "</style>\n",
       "<table border=\"1\" class=\"dataframe\">\n",
       "  <thead>\n",
       "    <tr style=\"text-align: right;\">\n",
       "      <th></th>\n",
       "      <th>discord image</th>\n",
       "      <th>imkg image</th>\n",
       "      <th>score</th>\n",
       "      <th>timestamp</th>\n",
       "      <th>channel</th>\n",
       "    </tr>\n",
       "  </thead>\n",
       "  <tbody>\n",
       "    <tr>\n",
       "      <th>0</th>\n",
       "      <td>https://images-ext-1.discordapp.net/external/W...</td>\n",
       "      <td>https://i.imgflip.com/48k2zx.jpg</td>\n",
       "      <td>0.678281</td>\n",
       "      <td>2023-07-31T23:43:57.965+00:00</td>\n",
       "      <td>TheDungeon</td>\n",
       "    </tr>\n",
       "    <tr>\n",
       "      <th>1</th>\n",
       "      <td>https://images-ext-1.discordapp.net/external/D...</td>\n",
       "      <td>https://i.imgflip.com/4jf1mm.jpg</td>\n",
       "      <td>0.707667</td>\n",
       "      <td>2023-07-31T23:43:10.035+00:00</td>\n",
       "      <td>TheDungeon</td>\n",
       "    </tr>\n",
       "    <tr>\n",
       "      <th>2</th>\n",
       "      <td>https://images-ext-2.discordapp.net/external/v...</td>\n",
       "      <td>https://i.imgflip.com/3lklq9.jpg</td>\n",
       "      <td>0.890164</td>\n",
       "      <td>2023-07-31T23:26:23.419+00:00</td>\n",
       "      <td>TheDungeon</td>\n",
       "    </tr>\n",
       "    <tr>\n",
       "      <th>3</th>\n",
       "      <td>https://images-ext-2.discordapp.net/external/n...</td>\n",
       "      <td>https://i.imgflip.com/34apmh.jpg</td>\n",
       "      <td>0.609027</td>\n",
       "      <td>2023-07-31T22:36:52.764+00:00</td>\n",
       "      <td>TheDungeon</td>\n",
       "    </tr>\n",
       "    <tr>\n",
       "      <th>4</th>\n",
       "      <td>https://images-ext-2.discordapp.net/external/D...</td>\n",
       "      <td>https://i.imgflip.com/44u5fm.jpg</td>\n",
       "      <td>0.658732</td>\n",
       "      <td>2023-07-31T22:15:57.541+00:00</td>\n",
       "      <td>TheDungeon</td>\n",
       "    </tr>\n",
       "  </tbody>\n",
       "</table>\n",
       "</div>"
      ],
      "text/plain": [
       "                                       discord image   \n",
       "0  https://images-ext-1.discordapp.net/external/W...  \\\n",
       "1  https://images-ext-1.discordapp.net/external/D...   \n",
       "2  https://images-ext-2.discordapp.net/external/v...   \n",
       "3  https://images-ext-2.discordapp.net/external/n...   \n",
       "4  https://images-ext-2.discordapp.net/external/D...   \n",
       "\n",
       "                         imkg image     score                      timestamp   \n",
       "0  https://i.imgflip.com/48k2zx.jpg  0.678281  2023-07-31T23:43:57.965+00:00  \\\n",
       "1  https://i.imgflip.com/4jf1mm.jpg  0.707667  2023-07-31T23:43:10.035+00:00   \n",
       "2  https://i.imgflip.com/3lklq9.jpg  0.890164  2023-07-31T23:26:23.419+00:00   \n",
       "3  https://i.imgflip.com/34apmh.jpg  0.609027  2023-07-31T22:36:52.764+00:00   \n",
       "4  https://i.imgflip.com/44u5fm.jpg  0.658732  2023-07-31T22:15:57.541+00:00   \n",
       "\n",
       "      channel  \n",
       "0  TheDungeon  \n",
       "1  TheDungeon  \n",
       "2  TheDungeon  \n",
       "3  TheDungeon  \n",
       "4  TheDungeon  "
      ]
     },
     "execution_count": 75,
     "metadata": {},
     "output_type": "execute_result"
    }
   ],
   "source": [
    "df = pd.read_csv('../out/new_discord_filtered_df_60_final.csv', index_col=0)\n",
    "df.head()"
   ]
  },
  {
   "cell_type": "code",
   "execution_count": 76,
   "id": "755ca92d",
   "metadata": {},
   "outputs": [
    {
     "data": {
      "text/plain": [
       "(1494, 5)"
      ]
     },
     "execution_count": 76,
     "metadata": {},
     "output_type": "execute_result"
    }
   ],
   "source": [
    "df.shape"
   ]
  },
  {
   "cell_type": "code",
   "execution_count": 77,
   "id": "160af8c2",
   "metadata": {},
   "outputs": [
    {
     "name": "stderr",
     "output_type": "stream",
     "text": [
      "1326032it [00:01, 1325912.19it/s]\n"
     ]
    }
   ],
   "source": [
    "imkg_templates = pd.read_csv('../graph/out/imkg_templates.tsv', sep='\\t')\n",
    "node1 = list(imkg_templates['node1'].values)\n",
    "node2 = list(imkg_templates['node2'].values)\n",
    "df_imkg_nodes = list(df['imkg image'].values)\n",
    "df_imkg_nodes = [x.split('/')[-1].split('.')[0] for x in df_imkg_nodes]\n",
    "back_dict = {}\n",
    "final_dict = {}\n",
    "for x, y in tqdm(zip(node1, node2)):\n",
    "    back_dict[x.split(':')[-1]] = y"
   ]
  },
  {
   "cell_type": "code",
   "execution_count": 78,
   "id": "f32c8de2",
   "metadata": {},
   "outputs": [
    {
     "name": "stderr",
     "output_type": "stream",
     "text": [
      "1494it [00:01, 977.17it/s]\n"
     ]
    }
   ],
   "source": [
    "# Add timestamp information\n",
    "modified_df = pd.DataFrame(columns=[\"discord image\", \"imkg image\", \"score\", \"timestamp\", \"IMKG Class\"])\n",
    "for row in tqdm(df.iterrows()):\n",
    "    imkg_image = row[1]['imkg image']\n",
    "    imkg_image = imkg_image.split('/')[-1].split('.')[0]\n",
    "    imkg_image = back_dict[imkg_image].split('/')[-1]\n",
    "    imkg_image = imkg_image.split(':')[-1]\n",
    "    modified_df.loc[len(modified_df)] = [row[1]['discord image'], row[1]['imkg image'], row[1]['score'], row[1]['timestamp'], imkg_image]"
   ]
  },
  {
   "cell_type": "code",
   "execution_count": 79,
   "id": "44dd30eb",
   "metadata": {
    "scrolled": false
   },
   "outputs": [
    {
     "data": {
      "text/plain": [
       "IMKG Class\n",
       "Drake-Hotline-Bling                               30\n",
       "Press-button-hard-choice                          27\n",
       "Afraid-To-Ask-Andy                                27\n",
       "Happy--Shock                                      23\n",
       "undertaker                                        20\n",
       "                                                  ..\n",
       "This-Little-Manuever-is-Gonna-Cost-us-51-Years     1\n",
       "party-loner                                        1\n",
       "Sad-Keanu                                          1\n",
       "See-Nobody-Cares                                   1\n",
       "Think-Mark-Think                                   1\n",
       "Name: count, Length: 447, dtype: int64"
      ]
     },
     "execution_count": 79,
     "metadata": {},
     "output_type": "execute_result"
    }
   ],
   "source": [
    "modified_df['IMKG Class'].value_counts()"
   ]
  },
  {
   "cell_type": "code",
   "execution_count": 80,
   "id": "38bd062f",
   "metadata": {},
   "outputs": [],
   "source": [
    "# Popular IMKG class\n",
    "popular_imkg_class = [\"Drake-Hotline-Bling\", \"Press-button-hard-choice\", \"Afraid-To-Ask-Andy\", \\\n",
    "                 \"Happy--Shock\", \"undertaker\"]"
   ]
  },
  {
   "cell_type": "code",
   "execution_count": 81,
   "id": "6d23a193",
   "metadata": {},
   "outputs": [
    {
     "data": {
      "text/plain": [
       "(127, 5)"
      ]
     },
     "execution_count": 81,
     "metadata": {},
     "output_type": "execute_result"
    }
   ],
   "source": [
    "# Filter rest of the classes\n",
    "popular_df = modified_df[modified_df['IMKG Class'].isin(popular_imkg_class)]\n",
    "popular_df.shape"
   ]
  },
  {
   "cell_type": "code",
   "execution_count": 82,
   "id": "584ee511",
   "metadata": {},
   "outputs": [
    {
     "data": {
      "text/html": [
       "<div>\n",
       "<style scoped>\n",
       "    .dataframe tbody tr th:only-of-type {\n",
       "        vertical-align: middle;\n",
       "    }\n",
       "\n",
       "    .dataframe tbody tr th {\n",
       "        vertical-align: top;\n",
       "    }\n",
       "\n",
       "    .dataframe thead th {\n",
       "        text-align: right;\n",
       "    }\n",
       "</style>\n",
       "<table border=\"1\" class=\"dataframe\">\n",
       "  <thead>\n",
       "    <tr style=\"text-align: right;\">\n",
       "      <th></th>\n",
       "      <th>discord image</th>\n",
       "      <th>imkg image</th>\n",
       "      <th>score</th>\n",
       "      <th>timestamp</th>\n",
       "      <th>IMKG Class</th>\n",
       "    </tr>\n",
       "  </thead>\n",
       "  <tbody>\n",
       "    <tr>\n",
       "      <th>1</th>\n",
       "      <td>https://images-ext-1.discordapp.net/external/D...</td>\n",
       "      <td>https://i.imgflip.com/4jf1mm.jpg</td>\n",
       "      <td>0.707667</td>\n",
       "      <td>2023-07-31T23:43:10.035+00:00</td>\n",
       "      <td>undertaker</td>\n",
       "    </tr>\n",
       "    <tr>\n",
       "      <th>2</th>\n",
       "      <td>https://images-ext-2.discordapp.net/external/v...</td>\n",
       "      <td>https://i.imgflip.com/3lklq9.jpg</td>\n",
       "      <td>0.890164</td>\n",
       "      <td>2023-07-31T23:26:23.419+00:00</td>\n",
       "      <td>Press-button-hard-choice</td>\n",
       "    </tr>\n",
       "    <tr>\n",
       "      <th>7</th>\n",
       "      <td>https://images-ext-1.discordapp.net/external/p...</td>\n",
       "      <td>https://i.imgflip.com/53y256.jpg</td>\n",
       "      <td>0.652669</td>\n",
       "      <td>2023-07-31T21:07:34.06+00:00</td>\n",
       "      <td>Happy--Shock</td>\n",
       "    </tr>\n",
       "    <tr>\n",
       "      <th>19</th>\n",
       "      <td>https://images-ext-1.discordapp.net/external/m...</td>\n",
       "      <td>https://i.imgflip.com/101or6.jpg</td>\n",
       "      <td>0.824065</td>\n",
       "      <td>2023-07-31T10:38:22.329+00:00</td>\n",
       "      <td>Afraid-To-Ask-Andy</td>\n",
       "    </tr>\n",
       "    <tr>\n",
       "      <th>33</th>\n",
       "      <td>https://images-ext-1.discordapp.net/external/s...</td>\n",
       "      <td>https://i.imgflip.com/1023mz.jpg</td>\n",
       "      <td>0.818152</td>\n",
       "      <td>2023-07-30T22:26:38.397+00:00</td>\n",
       "      <td>Afraid-To-Ask-Andy</td>\n",
       "    </tr>\n",
       "  </tbody>\n",
       "</table>\n",
       "</div>"
      ],
      "text/plain": [
       "                                        discord image   \n",
       "1   https://images-ext-1.discordapp.net/external/D...  \\\n",
       "2   https://images-ext-2.discordapp.net/external/v...   \n",
       "7   https://images-ext-1.discordapp.net/external/p...   \n",
       "19  https://images-ext-1.discordapp.net/external/m...   \n",
       "33  https://images-ext-1.discordapp.net/external/s...   \n",
       "\n",
       "                          imkg image     score                      timestamp   \n",
       "1   https://i.imgflip.com/4jf1mm.jpg  0.707667  2023-07-31T23:43:10.035+00:00  \\\n",
       "2   https://i.imgflip.com/3lklq9.jpg  0.890164  2023-07-31T23:26:23.419+00:00   \n",
       "7   https://i.imgflip.com/53y256.jpg  0.652669   2023-07-31T21:07:34.06+00:00   \n",
       "19  https://i.imgflip.com/101or6.jpg  0.824065  2023-07-31T10:38:22.329+00:00   \n",
       "33  https://i.imgflip.com/1023mz.jpg  0.818152  2023-07-30T22:26:38.397+00:00   \n",
       "\n",
       "                  IMKG Class  \n",
       "1                 undertaker  \n",
       "2   Press-button-hard-choice  \n",
       "7               Happy--Shock  \n",
       "19        Afraid-To-Ask-Andy  \n",
       "33        Afraid-To-Ask-Andy  "
      ]
     },
     "execution_count": 82,
     "metadata": {},
     "output_type": "execute_result"
    }
   ],
   "source": [
    "popular_df.head()"
   ]
  },
  {
   "cell_type": "markdown",
   "id": "46caf1fc",
   "metadata": {},
   "source": [
    "## Daily trend analysis"
   ]
  },
  {
   "cell_type": "code",
   "execution_count": 83,
   "id": "f0a64e3f",
   "metadata": {},
   "outputs": [
    {
     "name": "stderr",
     "output_type": "stream",
     "text": [
      "/tmp/ipykernel_103420/3886220491.py:1: SettingWithCopyWarning:\n",
      "\n",
      "\n",
      "A value is trying to be set on a copy of a slice from a DataFrame.\n",
      "Try using .loc[row_indexer,col_indexer] = value instead\n",
      "\n",
      "See the caveats in the documentation: https://pandas.pydata.org/pandas-docs/stable/user_guide/indexing.html#returning-a-view-versus-a-copy\n",
      "\n",
      "/tmp/ipykernel_103420/3886220491.py:2: SettingWithCopyWarning:\n",
      "\n",
      "\n",
      "A value is trying to be set on a copy of a slice from a DataFrame.\n",
      "Try using .loc[row_indexer,col_indexer] = value instead\n",
      "\n",
      "See the caveats in the documentation: https://pandas.pydata.org/pandas-docs/stable/user_guide/indexing.html#returning-a-view-versus-a-copy\n",
      "\n"
     ]
    }
   ],
   "source": [
    "popular_df['timestamp'] = popular_df['timestamp'].str.slice(0, 19)\n",
    "popular_df['Date'] = pd.to_datetime(popular_df['timestamp'])\n",
    "popular_df.set_index('Date', inplace=True)\n",
    "popular_weekly_df = popular_df.groupby('IMKG Class').resample('W-MON').size().reset_index(name='Counts')"
   ]
  },
  {
   "cell_type": "code",
   "execution_count": 84,
   "id": "8faf0637",
   "metadata": {},
   "outputs": [
    {
     "data": {
      "application/vnd.plotly.v1+json": {
       "config": {
        "plotlyServerURL": "https://plot.ly"
       },
       "data": [
        {
         "hovertemplate": "IMKG Class=Afraid-To-Ask-Andy<br>Date=%{x}<br>Counts=%{y}<extra></extra>",
         "legendgroup": "Afraid-To-Ask-Andy",
         "line": {
          "color": "#636efa",
          "dash": "solid"
         },
         "marker": {
          "symbol": "circle"
         },
         "mode": "lines",
         "name": "Afraid-To-Ask-Andy",
         "orientation": "v",
         "showlegend": true,
         "type": "scatter",
         "x": [
          "2023-07-03T00:00:00",
          "2023-07-10T00:00:00",
          "2023-07-17T00:00:00",
          "2023-07-24T00:00:00",
          "2023-07-31T00:00:00"
         ],
         "xaxis": "x",
         "y": [
          4,
          3,
          5,
          11,
          4
         ],
         "yaxis": "y"
        },
        {
         "hovertemplate": "IMKG Class=Drake-Hotline-Bling<br>Date=%{x}<br>Counts=%{y}<extra></extra>",
         "legendgroup": "Drake-Hotline-Bling",
         "line": {
          "color": "#EF553B",
          "dash": "solid"
         },
         "marker": {
          "symbol": "circle"
         },
         "mode": "lines",
         "name": "Drake-Hotline-Bling",
         "orientation": "v",
         "showlegend": true,
         "type": "scatter",
         "x": [
          "2023-07-03T00:00:00",
          "2023-07-10T00:00:00",
          "2023-07-17T00:00:00",
          "2023-07-24T00:00:00",
          "2023-07-31T00:00:00"
         ],
         "xaxis": "x",
         "y": [
          2,
          7,
          6,
          8,
          7
         ],
         "yaxis": "y"
        },
        {
         "hovertemplate": "IMKG Class=Happy--Shock<br>Date=%{x}<br>Counts=%{y}<extra></extra>",
         "legendgroup": "Happy--Shock",
         "line": {
          "color": "#00cc96",
          "dash": "solid"
         },
         "marker": {
          "symbol": "circle"
         },
         "mode": "lines",
         "name": "Happy--Shock",
         "orientation": "v",
         "showlegend": true,
         "type": "scatter",
         "x": [
          "2023-07-03T00:00:00",
          "2023-07-10T00:00:00",
          "2023-07-17T00:00:00",
          "2023-07-24T00:00:00",
          "2023-07-31T00:00:00"
         ],
         "xaxis": "x",
         "y": [
          1,
          6,
          4,
          8,
          4
         ],
         "yaxis": "y"
        },
        {
         "hovertemplate": "IMKG Class=Press-button-hard-choice<br>Date=%{x}<br>Counts=%{y}<extra></extra>",
         "legendgroup": "Press-button-hard-choice",
         "line": {
          "color": "#ab63fa",
          "dash": "solid"
         },
         "marker": {
          "symbol": "circle"
         },
         "mode": "lines",
         "name": "Press-button-hard-choice",
         "orientation": "v",
         "showlegend": true,
         "type": "scatter",
         "x": [
          "2023-07-10T00:00:00",
          "2023-07-17T00:00:00",
          "2023-07-24T00:00:00",
          "2023-07-31T00:00:00"
         ],
         "xaxis": "x",
         "y": [
          6,
          3,
          10,
          8
         ],
         "yaxis": "y"
        },
        {
         "hovertemplate": "IMKG Class=undertaker<br>Date=%{x}<br>Counts=%{y}<extra></extra>",
         "legendgroup": "undertaker",
         "line": {
          "color": "#FFA15A",
          "dash": "solid"
         },
         "marker": {
          "symbol": "circle"
         },
         "mode": "lines",
         "name": "undertaker",
         "orientation": "v",
         "showlegend": true,
         "type": "scatter",
         "x": [
          "2023-07-03T00:00:00",
          "2023-07-10T00:00:00",
          "2023-07-17T00:00:00",
          "2023-07-24T00:00:00",
          "2023-07-31T00:00:00"
         ],
         "xaxis": "x",
         "y": [
          1,
          4,
          5,
          5,
          5
         ],
         "yaxis": "y"
        }
       ],
       "layout": {
        "height": 600,
        "legend": {
         "font": {
          "family": "Courier New, monospace",
          "size": 16
         },
         "orientation": "h",
         "title": {
          "font": {
           "family": "Courier New, monospace",
           "size": 16
          },
          "text": "IMKG Class"
         },
         "tracegroupgap": 0,
         "x": 0.5,
         "xanchor": "center",
         "y": -0.4,
         "yanchor": "bottom"
        },
        "margin": {
         "b": 100,
         "t": 60
        },
        "template": {
         "data": {
          "bar": [
           {
            "error_x": {
             "color": "#2a3f5f"
            },
            "error_y": {
             "color": "#2a3f5f"
            },
            "marker": {
             "line": {
              "color": "#E5ECF6",
              "width": 0.5
             },
             "pattern": {
              "fillmode": "overlay",
              "size": 10,
              "solidity": 0.2
             }
            },
            "type": "bar"
           }
          ],
          "barpolar": [
           {
            "marker": {
             "line": {
              "color": "#E5ECF6",
              "width": 0.5
             },
             "pattern": {
              "fillmode": "overlay",
              "size": 10,
              "solidity": 0.2
             }
            },
            "type": "barpolar"
           }
          ],
          "carpet": [
           {
            "aaxis": {
             "endlinecolor": "#2a3f5f",
             "gridcolor": "white",
             "linecolor": "white",
             "minorgridcolor": "white",
             "startlinecolor": "#2a3f5f"
            },
            "baxis": {
             "endlinecolor": "#2a3f5f",
             "gridcolor": "white",
             "linecolor": "white",
             "minorgridcolor": "white",
             "startlinecolor": "#2a3f5f"
            },
            "type": "carpet"
           }
          ],
          "choropleth": [
           {
            "colorbar": {
             "outlinewidth": 0,
             "ticks": ""
            },
            "type": "choropleth"
           }
          ],
          "contour": [
           {
            "colorbar": {
             "outlinewidth": 0,
             "ticks": ""
            },
            "colorscale": [
             [
              0,
              "#0d0887"
             ],
             [
              0.1111111111111111,
              "#46039f"
             ],
             [
              0.2222222222222222,
              "#7201a8"
             ],
             [
              0.3333333333333333,
              "#9c179e"
             ],
             [
              0.4444444444444444,
              "#bd3786"
             ],
             [
              0.5555555555555556,
              "#d8576b"
             ],
             [
              0.6666666666666666,
              "#ed7953"
             ],
             [
              0.7777777777777778,
              "#fb9f3a"
             ],
             [
              0.8888888888888888,
              "#fdca26"
             ],
             [
              1,
              "#f0f921"
             ]
            ],
            "type": "contour"
           }
          ],
          "contourcarpet": [
           {
            "colorbar": {
             "outlinewidth": 0,
             "ticks": ""
            },
            "type": "contourcarpet"
           }
          ],
          "heatmap": [
           {
            "colorbar": {
             "outlinewidth": 0,
             "ticks": ""
            },
            "colorscale": [
             [
              0,
              "#0d0887"
             ],
             [
              0.1111111111111111,
              "#46039f"
             ],
             [
              0.2222222222222222,
              "#7201a8"
             ],
             [
              0.3333333333333333,
              "#9c179e"
             ],
             [
              0.4444444444444444,
              "#bd3786"
             ],
             [
              0.5555555555555556,
              "#d8576b"
             ],
             [
              0.6666666666666666,
              "#ed7953"
             ],
             [
              0.7777777777777778,
              "#fb9f3a"
             ],
             [
              0.8888888888888888,
              "#fdca26"
             ],
             [
              1,
              "#f0f921"
             ]
            ],
            "type": "heatmap"
           }
          ],
          "heatmapgl": [
           {
            "colorbar": {
             "outlinewidth": 0,
             "ticks": ""
            },
            "colorscale": [
             [
              0,
              "#0d0887"
             ],
             [
              0.1111111111111111,
              "#46039f"
             ],
             [
              0.2222222222222222,
              "#7201a8"
             ],
             [
              0.3333333333333333,
              "#9c179e"
             ],
             [
              0.4444444444444444,
              "#bd3786"
             ],
             [
              0.5555555555555556,
              "#d8576b"
             ],
             [
              0.6666666666666666,
              "#ed7953"
             ],
             [
              0.7777777777777778,
              "#fb9f3a"
             ],
             [
              0.8888888888888888,
              "#fdca26"
             ],
             [
              1,
              "#f0f921"
             ]
            ],
            "type": "heatmapgl"
           }
          ],
          "histogram": [
           {
            "marker": {
             "pattern": {
              "fillmode": "overlay",
              "size": 10,
              "solidity": 0.2
             }
            },
            "type": "histogram"
           }
          ],
          "histogram2d": [
           {
            "colorbar": {
             "outlinewidth": 0,
             "ticks": ""
            },
            "colorscale": [
             [
              0,
              "#0d0887"
             ],
             [
              0.1111111111111111,
              "#46039f"
             ],
             [
              0.2222222222222222,
              "#7201a8"
             ],
             [
              0.3333333333333333,
              "#9c179e"
             ],
             [
              0.4444444444444444,
              "#bd3786"
             ],
             [
              0.5555555555555556,
              "#d8576b"
             ],
             [
              0.6666666666666666,
              "#ed7953"
             ],
             [
              0.7777777777777778,
              "#fb9f3a"
             ],
             [
              0.8888888888888888,
              "#fdca26"
             ],
             [
              1,
              "#f0f921"
             ]
            ],
            "type": "histogram2d"
           }
          ],
          "histogram2dcontour": [
           {
            "colorbar": {
             "outlinewidth": 0,
             "ticks": ""
            },
            "colorscale": [
             [
              0,
              "#0d0887"
             ],
             [
              0.1111111111111111,
              "#46039f"
             ],
             [
              0.2222222222222222,
              "#7201a8"
             ],
             [
              0.3333333333333333,
              "#9c179e"
             ],
             [
              0.4444444444444444,
              "#bd3786"
             ],
             [
              0.5555555555555556,
              "#d8576b"
             ],
             [
              0.6666666666666666,
              "#ed7953"
             ],
             [
              0.7777777777777778,
              "#fb9f3a"
             ],
             [
              0.8888888888888888,
              "#fdca26"
             ],
             [
              1,
              "#f0f921"
             ]
            ],
            "type": "histogram2dcontour"
           }
          ],
          "mesh3d": [
           {
            "colorbar": {
             "outlinewidth": 0,
             "ticks": ""
            },
            "type": "mesh3d"
           }
          ],
          "parcoords": [
           {
            "line": {
             "colorbar": {
              "outlinewidth": 0,
              "ticks": ""
             }
            },
            "type": "parcoords"
           }
          ],
          "pie": [
           {
            "automargin": true,
            "type": "pie"
           }
          ],
          "scatter": [
           {
            "fillpattern": {
             "fillmode": "overlay",
             "size": 10,
             "solidity": 0.2
            },
            "type": "scatter"
           }
          ],
          "scatter3d": [
           {
            "line": {
             "colorbar": {
              "outlinewidth": 0,
              "ticks": ""
             }
            },
            "marker": {
             "colorbar": {
              "outlinewidth": 0,
              "ticks": ""
             }
            },
            "type": "scatter3d"
           }
          ],
          "scattercarpet": [
           {
            "marker": {
             "colorbar": {
              "outlinewidth": 0,
              "ticks": ""
             }
            },
            "type": "scattercarpet"
           }
          ],
          "scattergeo": [
           {
            "marker": {
             "colorbar": {
              "outlinewidth": 0,
              "ticks": ""
             }
            },
            "type": "scattergeo"
           }
          ],
          "scattergl": [
           {
            "marker": {
             "colorbar": {
              "outlinewidth": 0,
              "ticks": ""
             }
            },
            "type": "scattergl"
           }
          ],
          "scattermapbox": [
           {
            "marker": {
             "colorbar": {
              "outlinewidth": 0,
              "ticks": ""
             }
            },
            "type": "scattermapbox"
           }
          ],
          "scatterpolar": [
           {
            "marker": {
             "colorbar": {
              "outlinewidth": 0,
              "ticks": ""
             }
            },
            "type": "scatterpolar"
           }
          ],
          "scatterpolargl": [
           {
            "marker": {
             "colorbar": {
              "outlinewidth": 0,
              "ticks": ""
             }
            },
            "type": "scatterpolargl"
           }
          ],
          "scatterternary": [
           {
            "marker": {
             "colorbar": {
              "outlinewidth": 0,
              "ticks": ""
             }
            },
            "type": "scatterternary"
           }
          ],
          "surface": [
           {
            "colorbar": {
             "outlinewidth": 0,
             "ticks": ""
            },
            "colorscale": [
             [
              0,
              "#0d0887"
             ],
             [
              0.1111111111111111,
              "#46039f"
             ],
             [
              0.2222222222222222,
              "#7201a8"
             ],
             [
              0.3333333333333333,
              "#9c179e"
             ],
             [
              0.4444444444444444,
              "#bd3786"
             ],
             [
              0.5555555555555556,
              "#d8576b"
             ],
             [
              0.6666666666666666,
              "#ed7953"
             ],
             [
              0.7777777777777778,
              "#fb9f3a"
             ],
             [
              0.8888888888888888,
              "#fdca26"
             ],
             [
              1,
              "#f0f921"
             ]
            ],
            "type": "surface"
           }
          ],
          "table": [
           {
            "cells": {
             "fill": {
              "color": "#EBF0F8"
             },
             "line": {
              "color": "white"
             }
            },
            "header": {
             "fill": {
              "color": "#C8D4E3"
             },
             "line": {
              "color": "white"
             }
            },
            "type": "table"
           }
          ]
         },
         "layout": {
          "annotationdefaults": {
           "arrowcolor": "#2a3f5f",
           "arrowhead": 0,
           "arrowwidth": 1
          },
          "autotypenumbers": "strict",
          "coloraxis": {
           "colorbar": {
            "outlinewidth": 0,
            "ticks": ""
           }
          },
          "colorscale": {
           "diverging": [
            [
             0,
             "#8e0152"
            ],
            [
             0.1,
             "#c51b7d"
            ],
            [
             0.2,
             "#de77ae"
            ],
            [
             0.3,
             "#f1b6da"
            ],
            [
             0.4,
             "#fde0ef"
            ],
            [
             0.5,
             "#f7f7f7"
            ],
            [
             0.6,
             "#e6f5d0"
            ],
            [
             0.7,
             "#b8e186"
            ],
            [
             0.8,
             "#7fbc41"
            ],
            [
             0.9,
             "#4d9221"
            ],
            [
             1,
             "#276419"
            ]
           ],
           "sequential": [
            [
             0,
             "#0d0887"
            ],
            [
             0.1111111111111111,
             "#46039f"
            ],
            [
             0.2222222222222222,
             "#7201a8"
            ],
            [
             0.3333333333333333,
             "#9c179e"
            ],
            [
             0.4444444444444444,
             "#bd3786"
            ],
            [
             0.5555555555555556,
             "#d8576b"
            ],
            [
             0.6666666666666666,
             "#ed7953"
            ],
            [
             0.7777777777777778,
             "#fb9f3a"
            ],
            [
             0.8888888888888888,
             "#fdca26"
            ],
            [
             1,
             "#f0f921"
            ]
           ],
           "sequentialminus": [
            [
             0,
             "#0d0887"
            ],
            [
             0.1111111111111111,
             "#46039f"
            ],
            [
             0.2222222222222222,
             "#7201a8"
            ],
            [
             0.3333333333333333,
             "#9c179e"
            ],
            [
             0.4444444444444444,
             "#bd3786"
            ],
            [
             0.5555555555555556,
             "#d8576b"
            ],
            [
             0.6666666666666666,
             "#ed7953"
            ],
            [
             0.7777777777777778,
             "#fb9f3a"
            ],
            [
             0.8888888888888888,
             "#fdca26"
            ],
            [
             1,
             "#f0f921"
            ]
           ]
          },
          "colorway": [
           "#636efa",
           "#EF553B",
           "#00cc96",
           "#ab63fa",
           "#FFA15A",
           "#19d3f3",
           "#FF6692",
           "#B6E880",
           "#FF97FF",
           "#FECB52"
          ],
          "font": {
           "color": "#2a3f5f"
          },
          "geo": {
           "bgcolor": "white",
           "lakecolor": "white",
           "landcolor": "#E5ECF6",
           "showlakes": true,
           "showland": true,
           "subunitcolor": "white"
          },
          "hoverlabel": {
           "align": "left"
          },
          "hovermode": "closest",
          "mapbox": {
           "style": "light"
          },
          "paper_bgcolor": "white",
          "plot_bgcolor": "#E5ECF6",
          "polar": {
           "angularaxis": {
            "gridcolor": "white",
            "linecolor": "white",
            "ticks": ""
           },
           "bgcolor": "#E5ECF6",
           "radialaxis": {
            "gridcolor": "white",
            "linecolor": "white",
            "ticks": ""
           }
          },
          "scene": {
           "xaxis": {
            "backgroundcolor": "#E5ECF6",
            "gridcolor": "white",
            "gridwidth": 2,
            "linecolor": "white",
            "showbackground": true,
            "ticks": "",
            "zerolinecolor": "white"
           },
           "yaxis": {
            "backgroundcolor": "#E5ECF6",
            "gridcolor": "white",
            "gridwidth": 2,
            "linecolor": "white",
            "showbackground": true,
            "ticks": "",
            "zerolinecolor": "white"
           },
           "zaxis": {
            "backgroundcolor": "#E5ECF6",
            "gridcolor": "white",
            "gridwidth": 2,
            "linecolor": "white",
            "showbackground": true,
            "ticks": "",
            "zerolinecolor": "white"
           }
          },
          "shapedefaults": {
           "line": {
            "color": "#2a3f5f"
           }
          },
          "ternary": {
           "aaxis": {
            "gridcolor": "white",
            "linecolor": "white",
            "ticks": ""
           },
           "baxis": {
            "gridcolor": "white",
            "linecolor": "white",
            "ticks": ""
           },
           "bgcolor": "#E5ECF6",
           "caxis": {
            "gridcolor": "white",
            "linecolor": "white",
            "ticks": ""
           }
          },
          "title": {
           "x": 0.05
          },
          "xaxis": {
           "automargin": true,
           "gridcolor": "white",
           "linecolor": "white",
           "ticks": "",
           "title": {
            "standoff": 15
           },
           "zerolinecolor": "white",
           "zerolinewidth": 2
          },
          "yaxis": {
           "automargin": true,
           "gridcolor": "white",
           "linecolor": "white",
           "ticks": "",
           "title": {
            "standoff": 15
           },
           "zerolinecolor": "white",
           "zerolinewidth": 2
          }
         }
        },
        "title": {
         "x": 0.5
        },
        "width": 1000,
        "xaxis": {
         "anchor": "y",
         "domain": [
          0,
          1
         ],
         "range": [
          "2023-07-01",
          "2023-07-31"
         ],
         "tickfont": {
          "family": "Courier New, monospace",
          "size": 16
         },
         "title": {
          "font": {
           "family": "Courier New, monospace",
           "size": 16
          },
          "text": "Date"
         }
        },
        "yaxis": {
         "anchor": "x",
         "domain": [
          0,
          1
         ],
         "tickfont": {
          "family": "Courier New, monospace",
          "size": 16
         },
         "tickformat": ",d",
         "title": {
          "font": {
           "family": "Courier New, monospace",
           "size": 16
          },
          "text": "Count"
         }
        }
       }
      },
      "text/html": [
       "<div>                            <div id=\"7b5ad0a1-8262-42d4-8759-6ebb48b97fcc\" class=\"plotly-graph-div\" style=\"height:600px; width:1000px;\"></div>            <script type=\"text/javascript\">                require([\"plotly\"], function(Plotly) {                    window.PLOTLYENV=window.PLOTLYENV || {};                                    if (document.getElementById(\"7b5ad0a1-8262-42d4-8759-6ebb48b97fcc\")) {                    Plotly.newPlot(                        \"7b5ad0a1-8262-42d4-8759-6ebb48b97fcc\",                        [{\"hovertemplate\":\"IMKG Class=Afraid-To-Ask-Andy\\u003cbr\\u003eDate=%{x}\\u003cbr\\u003eCounts=%{y}\\u003cextra\\u003e\\u003c\\u002fextra\\u003e\",\"legendgroup\":\"Afraid-To-Ask-Andy\",\"line\":{\"color\":\"#636efa\",\"dash\":\"solid\"},\"marker\":{\"symbol\":\"circle\"},\"mode\":\"lines\",\"name\":\"Afraid-To-Ask-Andy\",\"orientation\":\"v\",\"showlegend\":true,\"x\":[\"2023-07-03T00:00:00\",\"2023-07-10T00:00:00\",\"2023-07-17T00:00:00\",\"2023-07-24T00:00:00\",\"2023-07-31T00:00:00\"],\"xaxis\":\"x\",\"y\":[4,3,5,11,4],\"yaxis\":\"y\",\"type\":\"scatter\"},{\"hovertemplate\":\"IMKG Class=Drake-Hotline-Bling\\u003cbr\\u003eDate=%{x}\\u003cbr\\u003eCounts=%{y}\\u003cextra\\u003e\\u003c\\u002fextra\\u003e\",\"legendgroup\":\"Drake-Hotline-Bling\",\"line\":{\"color\":\"#EF553B\",\"dash\":\"solid\"},\"marker\":{\"symbol\":\"circle\"},\"mode\":\"lines\",\"name\":\"Drake-Hotline-Bling\",\"orientation\":\"v\",\"showlegend\":true,\"x\":[\"2023-07-03T00:00:00\",\"2023-07-10T00:00:00\",\"2023-07-17T00:00:00\",\"2023-07-24T00:00:00\",\"2023-07-31T00:00:00\"],\"xaxis\":\"x\",\"y\":[2,7,6,8,7],\"yaxis\":\"y\",\"type\":\"scatter\"},{\"hovertemplate\":\"IMKG Class=Happy--Shock\\u003cbr\\u003eDate=%{x}\\u003cbr\\u003eCounts=%{y}\\u003cextra\\u003e\\u003c\\u002fextra\\u003e\",\"legendgroup\":\"Happy--Shock\",\"line\":{\"color\":\"#00cc96\",\"dash\":\"solid\"},\"marker\":{\"symbol\":\"circle\"},\"mode\":\"lines\",\"name\":\"Happy--Shock\",\"orientation\":\"v\",\"showlegend\":true,\"x\":[\"2023-07-03T00:00:00\",\"2023-07-10T00:00:00\",\"2023-07-17T00:00:00\",\"2023-07-24T00:00:00\",\"2023-07-31T00:00:00\"],\"xaxis\":\"x\",\"y\":[1,6,4,8,4],\"yaxis\":\"y\",\"type\":\"scatter\"},{\"hovertemplate\":\"IMKG Class=Press-button-hard-choice\\u003cbr\\u003eDate=%{x}\\u003cbr\\u003eCounts=%{y}\\u003cextra\\u003e\\u003c\\u002fextra\\u003e\",\"legendgroup\":\"Press-button-hard-choice\",\"line\":{\"color\":\"#ab63fa\",\"dash\":\"solid\"},\"marker\":{\"symbol\":\"circle\"},\"mode\":\"lines\",\"name\":\"Press-button-hard-choice\",\"orientation\":\"v\",\"showlegend\":true,\"x\":[\"2023-07-10T00:00:00\",\"2023-07-17T00:00:00\",\"2023-07-24T00:00:00\",\"2023-07-31T00:00:00\"],\"xaxis\":\"x\",\"y\":[6,3,10,8],\"yaxis\":\"y\",\"type\":\"scatter\"},{\"hovertemplate\":\"IMKG Class=undertaker\\u003cbr\\u003eDate=%{x}\\u003cbr\\u003eCounts=%{y}\\u003cextra\\u003e\\u003c\\u002fextra\\u003e\",\"legendgroup\":\"undertaker\",\"line\":{\"color\":\"#FFA15A\",\"dash\":\"solid\"},\"marker\":{\"symbol\":\"circle\"},\"mode\":\"lines\",\"name\":\"undertaker\",\"orientation\":\"v\",\"showlegend\":true,\"x\":[\"2023-07-03T00:00:00\",\"2023-07-10T00:00:00\",\"2023-07-17T00:00:00\",\"2023-07-24T00:00:00\",\"2023-07-31T00:00:00\"],\"xaxis\":\"x\",\"y\":[1,4,5,5,5],\"yaxis\":\"y\",\"type\":\"scatter\"}],                        {\"template\":{\"data\":{\"histogram2dcontour\":[{\"type\":\"histogram2dcontour\",\"colorbar\":{\"outlinewidth\":0,\"ticks\":\"\"},\"colorscale\":[[0.0,\"#0d0887\"],[0.1111111111111111,\"#46039f\"],[0.2222222222222222,\"#7201a8\"],[0.3333333333333333,\"#9c179e\"],[0.4444444444444444,\"#bd3786\"],[0.5555555555555556,\"#d8576b\"],[0.6666666666666666,\"#ed7953\"],[0.7777777777777778,\"#fb9f3a\"],[0.8888888888888888,\"#fdca26\"],[1.0,\"#f0f921\"]]}],\"choropleth\":[{\"type\":\"choropleth\",\"colorbar\":{\"outlinewidth\":0,\"ticks\":\"\"}}],\"histogram2d\":[{\"type\":\"histogram2d\",\"colorbar\":{\"outlinewidth\":0,\"ticks\":\"\"},\"colorscale\":[[0.0,\"#0d0887\"],[0.1111111111111111,\"#46039f\"],[0.2222222222222222,\"#7201a8\"],[0.3333333333333333,\"#9c179e\"],[0.4444444444444444,\"#bd3786\"],[0.5555555555555556,\"#d8576b\"],[0.6666666666666666,\"#ed7953\"],[0.7777777777777778,\"#fb9f3a\"],[0.8888888888888888,\"#fdca26\"],[1.0,\"#f0f921\"]]}],\"heatmap\":[{\"type\":\"heatmap\",\"colorbar\":{\"outlinewidth\":0,\"ticks\":\"\"},\"colorscale\":[[0.0,\"#0d0887\"],[0.1111111111111111,\"#46039f\"],[0.2222222222222222,\"#7201a8\"],[0.3333333333333333,\"#9c179e\"],[0.4444444444444444,\"#bd3786\"],[0.5555555555555556,\"#d8576b\"],[0.6666666666666666,\"#ed7953\"],[0.7777777777777778,\"#fb9f3a\"],[0.8888888888888888,\"#fdca26\"],[1.0,\"#f0f921\"]]}],\"heatmapgl\":[{\"type\":\"heatmapgl\",\"colorbar\":{\"outlinewidth\":0,\"ticks\":\"\"},\"colorscale\":[[0.0,\"#0d0887\"],[0.1111111111111111,\"#46039f\"],[0.2222222222222222,\"#7201a8\"],[0.3333333333333333,\"#9c179e\"],[0.4444444444444444,\"#bd3786\"],[0.5555555555555556,\"#d8576b\"],[0.6666666666666666,\"#ed7953\"],[0.7777777777777778,\"#fb9f3a\"],[0.8888888888888888,\"#fdca26\"],[1.0,\"#f0f921\"]]}],\"contourcarpet\":[{\"type\":\"contourcarpet\",\"colorbar\":{\"outlinewidth\":0,\"ticks\":\"\"}}],\"contour\":[{\"type\":\"contour\",\"colorbar\":{\"outlinewidth\":0,\"ticks\":\"\"},\"colorscale\":[[0.0,\"#0d0887\"],[0.1111111111111111,\"#46039f\"],[0.2222222222222222,\"#7201a8\"],[0.3333333333333333,\"#9c179e\"],[0.4444444444444444,\"#bd3786\"],[0.5555555555555556,\"#d8576b\"],[0.6666666666666666,\"#ed7953\"],[0.7777777777777778,\"#fb9f3a\"],[0.8888888888888888,\"#fdca26\"],[1.0,\"#f0f921\"]]}],\"surface\":[{\"type\":\"surface\",\"colorbar\":{\"outlinewidth\":0,\"ticks\":\"\"},\"colorscale\":[[0.0,\"#0d0887\"],[0.1111111111111111,\"#46039f\"],[0.2222222222222222,\"#7201a8\"],[0.3333333333333333,\"#9c179e\"],[0.4444444444444444,\"#bd3786\"],[0.5555555555555556,\"#d8576b\"],[0.6666666666666666,\"#ed7953\"],[0.7777777777777778,\"#fb9f3a\"],[0.8888888888888888,\"#fdca26\"],[1.0,\"#f0f921\"]]}],\"mesh3d\":[{\"type\":\"mesh3d\",\"colorbar\":{\"outlinewidth\":0,\"ticks\":\"\"}}],\"scatter\":[{\"fillpattern\":{\"fillmode\":\"overlay\",\"size\":10,\"solidity\":0.2},\"type\":\"scatter\"}],\"parcoords\":[{\"type\":\"parcoords\",\"line\":{\"colorbar\":{\"outlinewidth\":0,\"ticks\":\"\"}}}],\"scatterpolargl\":[{\"type\":\"scatterpolargl\",\"marker\":{\"colorbar\":{\"outlinewidth\":0,\"ticks\":\"\"}}}],\"bar\":[{\"error_x\":{\"color\":\"#2a3f5f\"},\"error_y\":{\"color\":\"#2a3f5f\"},\"marker\":{\"line\":{\"color\":\"#E5ECF6\",\"width\":0.5},\"pattern\":{\"fillmode\":\"overlay\",\"size\":10,\"solidity\":0.2}},\"type\":\"bar\"}],\"scattergeo\":[{\"type\":\"scattergeo\",\"marker\":{\"colorbar\":{\"outlinewidth\":0,\"ticks\":\"\"}}}],\"scatterpolar\":[{\"type\":\"scatterpolar\",\"marker\":{\"colorbar\":{\"outlinewidth\":0,\"ticks\":\"\"}}}],\"histogram\":[{\"marker\":{\"pattern\":{\"fillmode\":\"overlay\",\"size\":10,\"solidity\":0.2}},\"type\":\"histogram\"}],\"scattergl\":[{\"type\":\"scattergl\",\"marker\":{\"colorbar\":{\"outlinewidth\":0,\"ticks\":\"\"}}}],\"scatter3d\":[{\"type\":\"scatter3d\",\"line\":{\"colorbar\":{\"outlinewidth\":0,\"ticks\":\"\"}},\"marker\":{\"colorbar\":{\"outlinewidth\":0,\"ticks\":\"\"}}}],\"scattermapbox\":[{\"type\":\"scattermapbox\",\"marker\":{\"colorbar\":{\"outlinewidth\":0,\"ticks\":\"\"}}}],\"scatterternary\":[{\"type\":\"scatterternary\",\"marker\":{\"colorbar\":{\"outlinewidth\":0,\"ticks\":\"\"}}}],\"scattercarpet\":[{\"type\":\"scattercarpet\",\"marker\":{\"colorbar\":{\"outlinewidth\":0,\"ticks\":\"\"}}}],\"carpet\":[{\"aaxis\":{\"endlinecolor\":\"#2a3f5f\",\"gridcolor\":\"white\",\"linecolor\":\"white\",\"minorgridcolor\":\"white\",\"startlinecolor\":\"#2a3f5f\"},\"baxis\":{\"endlinecolor\":\"#2a3f5f\",\"gridcolor\":\"white\",\"linecolor\":\"white\",\"minorgridcolor\":\"white\",\"startlinecolor\":\"#2a3f5f\"},\"type\":\"carpet\"}],\"table\":[{\"cells\":{\"fill\":{\"color\":\"#EBF0F8\"},\"line\":{\"color\":\"white\"}},\"header\":{\"fill\":{\"color\":\"#C8D4E3\"},\"line\":{\"color\":\"white\"}},\"type\":\"table\"}],\"barpolar\":[{\"marker\":{\"line\":{\"color\":\"#E5ECF6\",\"width\":0.5},\"pattern\":{\"fillmode\":\"overlay\",\"size\":10,\"solidity\":0.2}},\"type\":\"barpolar\"}],\"pie\":[{\"automargin\":true,\"type\":\"pie\"}]},\"layout\":{\"autotypenumbers\":\"strict\",\"colorway\":[\"#636efa\",\"#EF553B\",\"#00cc96\",\"#ab63fa\",\"#FFA15A\",\"#19d3f3\",\"#FF6692\",\"#B6E880\",\"#FF97FF\",\"#FECB52\"],\"font\":{\"color\":\"#2a3f5f\"},\"hovermode\":\"closest\",\"hoverlabel\":{\"align\":\"left\"},\"paper_bgcolor\":\"white\",\"plot_bgcolor\":\"#E5ECF6\",\"polar\":{\"bgcolor\":\"#E5ECF6\",\"angularaxis\":{\"gridcolor\":\"white\",\"linecolor\":\"white\",\"ticks\":\"\"},\"radialaxis\":{\"gridcolor\":\"white\",\"linecolor\":\"white\",\"ticks\":\"\"}},\"ternary\":{\"bgcolor\":\"#E5ECF6\",\"aaxis\":{\"gridcolor\":\"white\",\"linecolor\":\"white\",\"ticks\":\"\"},\"baxis\":{\"gridcolor\":\"white\",\"linecolor\":\"white\",\"ticks\":\"\"},\"caxis\":{\"gridcolor\":\"white\",\"linecolor\":\"white\",\"ticks\":\"\"}},\"coloraxis\":{\"colorbar\":{\"outlinewidth\":0,\"ticks\":\"\"}},\"colorscale\":{\"sequential\":[[0.0,\"#0d0887\"],[0.1111111111111111,\"#46039f\"],[0.2222222222222222,\"#7201a8\"],[0.3333333333333333,\"#9c179e\"],[0.4444444444444444,\"#bd3786\"],[0.5555555555555556,\"#d8576b\"],[0.6666666666666666,\"#ed7953\"],[0.7777777777777778,\"#fb9f3a\"],[0.8888888888888888,\"#fdca26\"],[1.0,\"#f0f921\"]],\"sequentialminus\":[[0.0,\"#0d0887\"],[0.1111111111111111,\"#46039f\"],[0.2222222222222222,\"#7201a8\"],[0.3333333333333333,\"#9c179e\"],[0.4444444444444444,\"#bd3786\"],[0.5555555555555556,\"#d8576b\"],[0.6666666666666666,\"#ed7953\"],[0.7777777777777778,\"#fb9f3a\"],[0.8888888888888888,\"#fdca26\"],[1.0,\"#f0f921\"]],\"diverging\":[[0,\"#8e0152\"],[0.1,\"#c51b7d\"],[0.2,\"#de77ae\"],[0.3,\"#f1b6da\"],[0.4,\"#fde0ef\"],[0.5,\"#f7f7f7\"],[0.6,\"#e6f5d0\"],[0.7,\"#b8e186\"],[0.8,\"#7fbc41\"],[0.9,\"#4d9221\"],[1,\"#276419\"]]},\"xaxis\":{\"gridcolor\":\"white\",\"linecolor\":\"white\",\"ticks\":\"\",\"title\":{\"standoff\":15},\"zerolinecolor\":\"white\",\"automargin\":true,\"zerolinewidth\":2},\"yaxis\":{\"gridcolor\":\"white\",\"linecolor\":\"white\",\"ticks\":\"\",\"title\":{\"standoff\":15},\"zerolinecolor\":\"white\",\"automargin\":true,\"zerolinewidth\":2},\"scene\":{\"xaxis\":{\"backgroundcolor\":\"#E5ECF6\",\"gridcolor\":\"white\",\"linecolor\":\"white\",\"showbackground\":true,\"ticks\":\"\",\"zerolinecolor\":\"white\",\"gridwidth\":2},\"yaxis\":{\"backgroundcolor\":\"#E5ECF6\",\"gridcolor\":\"white\",\"linecolor\":\"white\",\"showbackground\":true,\"ticks\":\"\",\"zerolinecolor\":\"white\",\"gridwidth\":2},\"zaxis\":{\"backgroundcolor\":\"#E5ECF6\",\"gridcolor\":\"white\",\"linecolor\":\"white\",\"showbackground\":true,\"ticks\":\"\",\"zerolinecolor\":\"white\",\"gridwidth\":2}},\"shapedefaults\":{\"line\":{\"color\":\"#2a3f5f\"}},\"annotationdefaults\":{\"arrowcolor\":\"#2a3f5f\",\"arrowhead\":0,\"arrowwidth\":1},\"geo\":{\"bgcolor\":\"white\",\"landcolor\":\"#E5ECF6\",\"subunitcolor\":\"white\",\"showland\":true,\"showlakes\":true,\"lakecolor\":\"white\"},\"title\":{\"x\":0.05},\"mapbox\":{\"style\":\"light\"}}},\"xaxis\":{\"anchor\":\"y\",\"domain\":[0.0,1.0],\"title\":{\"text\":\"Date\",\"font\":{\"size\":16,\"family\":\"Courier New, monospace\"}},\"tickfont\":{\"size\":16,\"family\":\"Courier New, monospace\"},\"range\":[\"2023-07-01\",\"2023-07-31\"]},\"yaxis\":{\"anchor\":\"x\",\"domain\":[0.0,1.0],\"title\":{\"text\":\"Count\",\"font\":{\"size\":16,\"family\":\"Courier New, monospace\"}},\"tickfont\":{\"size\":16,\"family\":\"Courier New, monospace\"},\"tickformat\":\",d\"},\"legend\":{\"title\":{\"text\":\"IMKG Class\",\"font\":{\"size\":16,\"family\":\"Courier New, monospace\"}},\"tracegroupgap\":0,\"font\":{\"size\":16,\"family\":\"Courier New, monospace\"},\"orientation\":\"h\",\"yanchor\":\"bottom\",\"y\":-0.4,\"xanchor\":\"center\",\"x\":0.5},\"margin\":{\"t\":60,\"b\":100},\"title\":{\"x\":0.5},\"width\":1000,\"height\":600},                        {\"responsive\": true}                    ).then(function(){\n",
       "                            \n",
       "var gd = document.getElementById('7b5ad0a1-8262-42d4-8759-6ebb48b97fcc');\n",
       "var x = new MutationObserver(function (mutations, observer) {{\n",
       "        var display = window.getComputedStyle(gd).display;\n",
       "        if (!display || display === 'none') {{\n",
       "            console.log([gd, 'removed!']);\n",
       "            Plotly.purge(gd);\n",
       "            observer.disconnect();\n",
       "        }}\n",
       "}});\n",
       "\n",
       "// Listen for the removal of the full notebook cells\n",
       "var notebookContainer = gd.closest('#notebook-container');\n",
       "if (notebookContainer) {{\n",
       "    x.observe(notebookContainer, {childList: true});\n",
       "}}\n",
       "\n",
       "// Listen for the clearing of the current output cell\n",
       "var outputEl = gd.closest('.output');\n",
       "if (outputEl) {{\n",
       "    x.observe(outputEl, {childList: true});\n",
       "}}\n",
       "\n",
       "                        })                };                });            </script>        </div>"
      ]
     },
     "metadata": {},
     "output_type": "display_data"
    }
   ],
   "source": [
    "basic_line_plotly(popular_weekly_df, x='Date', y='Counts', \\\n",
    "                  color_col='IMKG Class', xt='Date', \\\n",
    "                  yt='Count', title='Temporal Spread of Memes in Discord', \\\n",
    "                  WIDTH=1000, HEIGHT=600)"
   ]
  },
  {
   "cell_type": "code",
   "execution_count": null,
   "id": "a729dfaf",
   "metadata": {},
   "outputs": [],
   "source": []
  }
 ],
 "metadata": {
  "kernelspec": {
   "display_name": "Python 3 (ipykernel)",
   "language": "python",
   "name": "python3"
  },
  "language_info": {
   "codemirror_mode": {
    "name": "ipython",
    "version": 3
   },
   "file_extension": ".py",
   "mimetype": "text/x-python",
   "name": "python",
   "nbconvert_exporter": "python",
   "pygments_lexer": "ipython3",
   "version": "3.8.16"
  }
 },
 "nbformat": 4,
 "nbformat_minor": 5
}
